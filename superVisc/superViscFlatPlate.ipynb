{
 "cells": [
  {
   "cell_type": "markdown",
   "metadata": {},
   "source": [
    "# Supersonic Flow Over a Flat Plate: Full Navier-Stokes Equations\n",
    "\n",
    "\n",
    "This example looks at a viscous supersonic flow over a flat plate using the MacCormack's technique. This example is provided by chapter 10 of John D. Anderson's book *Computational Fluid Dynamics: The Basics with Applications*. "
   ]
  },
  {
   "cell_type": "markdown",
   "metadata": {},
   "source": [
    "Things to remember\n",
    "$$\\lambda  = - \\frac{2}{3}\\mu$$\n",
    "\n",
    "$$\\nabla \\cdot = \\frac{\\partial u}{\\partial x} + \\frac{\\partial v}{\\partial y}$$"
   ]
  }
 ],
 "metadata": {
  "kernelspec": {
   "display_name": "Python 3",
   "language": "python",
   "name": "python3"
  },
  "language_info": {
   "codemirror_mode": {
    "name": "ipython",
    "version": 3
   },
   "file_extension": ".py",
   "mimetype": "text/x-python",
   "name": "python",
   "nbconvert_exporter": "python",
   "pygments_lexer": "ipython3",
   "version": "3.6.7"
  }
 },
 "nbformat": 4,
 "nbformat_minor": 2
}
