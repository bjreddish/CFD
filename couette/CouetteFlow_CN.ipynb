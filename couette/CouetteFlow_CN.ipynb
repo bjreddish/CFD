{
 "cells": [
  {
   "cell_type": "code",
   "execution_count": 2,
   "metadata": {
    "collapsed": false
   },
   "outputs": [],
   "source": [
    "import numpy as np                 #loading in numpy\n",
    "from matplotlib import pyplot as plt      #load matplotlib\n",
    "import math                        # load math in \n",
    "#this makes matplotlib plots appear in the notebook (instead of a separate window)\n",
    "%matplotlib inline"
   ]
  },
  {
   "cell_type": "markdown",
   "metadata": {},
   "source": [
    "# Couette Flow of Incompressible Flow: Crank-Nicolson Method \n",
    "In previous examples, we have looked at inviscid compressible flow using explicit mehtods. Now we are going to explore a prbloem with an non-compressible viscous fluid. Additionally, we will be solving this problem with an implicit mehtod. More specifically, we will be implimenting the Crank-Nicolson implicit mehtod. \n",
    "The system we will be modeling is Couette flow which can be thought of as a fluid inbetween two parallel plates separated by some distance D. The upper plate is moving at some velocity and the lover plate is stationary. The flow field between the plates is driven purely by the shear stresses along the wall of the plates. This results in a velocity profile across the flow $u = u(y)$.\n",
    "\n",
    "## The Analytical Approach\n",
    "\n",
    "the governing equation for this flow is the x-momentum equation \n",
    "\n",
    "$$ \\rho \\frac{Du}{Dt} = -\\frac{\\partial p}{\\partial x} + \\frac{\\partial \\tau_{xx}}{\\partial x} + \\frac{\\partial \\tau_{yx}}{\\partial y} + \\frac{\\partial \\tau_{zx}}{\\partial z}+\\rho f_x$$\n",
    "\n",
    "This equation is simplified even further if we use a model that is infinitely long in the x-direction. This makes our equation independent of x therefor $\\partial / \\partial x = 0$. The continuity equation for steady flow can be written as:\n",
    "\n",
    "\n",
    "$$\\frac{\\partial(\\rho u)}{\\partial x}+ \\frac{\\partial (\\rho v)}{\\partial y} = 0$$\n",
    "\n",
    "and since $\\partial / \\partial x = 0$ we can write\n",
    "\n",
    "$$\\frac{\\partial (\\rho v)}{\\partial y} = \\rho \\frac{\\partial v}{\\partial y} + v \\frac{\\partial \\rho}{\\partial y} = 0$$\n",
    "\n",
    "If we evaluate this at the lower wall where $v = 0$ and $y = 0$ we get\n",
    "\n",
    "$$\\Big(\\rho \\frac{\\partial v}{\\partial y}\\Big)_{y=0} = 0$$\n",
    "\n",
    "or\n",
    "\n",
    "$$\\Big( \\frac{\\partial v}{\\partial y}\\Big)_{y=0} = 0$$\n",
    "\n",
    "\n",
    "If we expand $v$ in a tTaylor series about the point $y=0$ we get the following equations\n",
    "\n",
    "$$v(y) = v(0) + \\Big(\\frac{\\partial v}{\\partial y}\\Big)_{y=0} y+ \\Big(\\frac{\\partial ^2c}{\\partial y^2}\\Big)_{y=0}\\frac{y^2}{2}+ ...$$\n",
    "\n",
    "If we do the same thing for the upper wall, we get\n",
    "\n",
    "$$v(D) = v(0) + \\Big(\\frac{\\partial v}{\\partial y}\\Big)_{y=0} D+ \\Big(\\frac{\\partial ^2c}{\\partial y^2}\\Big)_{y=0}\\frac{D^2}{2}+ ...$$\n",
    "\n",
    "Because $v(D)=0$, $v(0)=0$ and $[\\partial v/\\partial y] _ {y=0} = 0$ it makes sense to say that for all of the points, the value of $v$ is equal to zero. This is an important characteristic of Couette flow. There is non y velocity comonenet in the flow. Becuase there is no movement in the y direction and there are no body forces, we can also assume that there is no change in pressure in the y direction.\n",
    "\n",
    "$$\\frac{\\partial p }{\\partial y}=0$$\n",
    "\n",
    "There are no pressure gradients in the x or y direction. With the information we have now, we can go back to out momentum equation and reduce it to the following equation\n",
    "\n",
    "$$\\rho u \\frac{\\partial u}{\\partial x} + \\rho v \\frac{\\partial u}{\\partial y} = - \\frac{\\partial p }{\\partial x} + \\frac{\\partial \\tau_{xx} }{\\partial x}+\\frac{\\partial \\tau_{yx} }{\\partial y}$$\n",
    "\n",
    "The equations for the stress terms are\n",
    "\n",
    "$$\\tau_{xx} = \\lambda \\Big(\\frac{\\partial u}{\\partial x}+\\frac{\\partial v}{\\partial y}\\Big) + 2\\mu \\frac{\\partial u}{\\partial x}=0$$\n",
    "\n",
    "$$\\tau_{yx} = \\mu \\Big(\\frac{\\partial v}{\\partial x}+\\frac{\\partial u}{\\partial y}\\Big) = \\mu \\frac{\\partial u}{\\partial y}$$\n",
    "\n",
    "\n",
    "Substituting the last two equations with our new momentum equation, we get\n",
    "\n",
    "$$0=\\frac{\\partial}{\\partial y}\\Big(\\mu \\frac{\\partial u}{\\partial y}\\Big)$$\n",
    "\n",
    "If we assume an incompressible, constant-temperature flow for which $\\mu$ is constant, the equation simplifies to \n",
    "\n",
    "$$\\frac{\\partial ^2 u}{\\partial y^2} = 0$$\n",
    "\n",
    "This is a thing of beauty. We have taken a physical problem (with many assumptions and simplifications) and reduced it to a second order partial differential equation. Even more impressive is that this has an analytical solution\n",
    "\n",
    "$$u = c_1 y + c_2$$\n",
    "\n",
    "We get this solution from integrating twice. Solving for the constant with the known boundary conditions, we get\n",
    "\n",
    "$$\\frac{u}{u_e} = \\frac{y}{D}$$\n",
    "\n",
    "This solution tells us that for Couette flow, the u velocity gradient will be linear. We can now use this analytical solution to check our CFD code. This is very important, because it is how we build confidence in numerical solutions and anchor them to what we know is correct. From there we can attempt to extrapolate and interpolate within a reasonable range and get answers to problems we cannot solve analytically. \n",
    "\n",
    "\n",
    "\n",
    "## The Numerical Approach \n",
    "\n",
    "\n",
    "We will begin the numerical solution with a flow filed that is not linear like the exact analytical solution. Instead, we will have a discontinuous profile where the flow is 0 for the entire flow except at $y = D$, the flow will be set to some velocity $u_e$. The figure below shows what this profile looks like graphically."
   ]
  },
  {
   "cell_type": "code",
   "execution_count": 3,
   "metadata": {
    "collapsed": false
   },
   "outputs": [
    {
     "data": {
      "text/plain": [
       "<matplotlib.text.Text at 0x1c64256dda0>"
      ]
     },
     "execution_count": 3,
     "metadata": {},
     "output_type": "execute_result"
    },
    {
     "data": {
      "image/png": "[encoded data removed]",
      "text/plain": [
       "<matplotlib.figure.Figure at 0x1c642500978>"
      ]
     },
     "metadata": {},
     "output_type": "display_data"
    }
   ],
   "source": [
    "x = np.linspace(0,1,100)\n",
    "y = np.ones(100)\n",
    "plt.plot(x,y)\n",
    "plt.xlim([0,1])\n",
    "plt.ylim([0,1.2])\n",
    "plt.xlabel('Velocity (u/u_e)')\n",
    "plt.ylabel('y location (y/D)')"
   ]
  },
  {
   "cell_type": "markdown",
   "metadata": {},
   "source": [
    "When starting from this profile and progressing to the steady state solution, the governing equation for momentum can be written as\n",
    "\n",
    "$$\\rho \\frac{\\partial u}{\\partial t} = \\mu \\frac{\\partial ^2 u}{\\partial y^2}$$\n",
    "\n",
    "To make out calculations easier, we will convert to a nondimensional form\n",
    "\n",
    "$$u' = \\frac{u}{u_e}$$\n",
    "\n",
    "$$y' = \\frac{y}{D}$$\n",
    "\n",
    "$$t' = \\frac{t}{D/u_e}$$\n",
    "\n",
    "Plugging these values into the governing equation\n",
    "\n",
    "$$\\rho \\frac{\\partial(u/u_e)}{\\partial [t/(D/u_e)]} \\Big(\\frac{u_e^2}{D}\\Big) = \\mu \\frac{\\partial^2 (u/u_e)}{\\partial (y/D)} \\Big(\\frac{u_e}{D^2}\\Big)$$\n",
    "\n",
    "or \n",
    "\n",
    "$$\\frac{\\partial u'}{\\partial t'} = \\frac{\\mu}{\\rho u_e D}\\frac{\\partial ^2 u'}{\\partial y'^2}$$\n",
    "\n",
    "We can simplify this further by tating that \n",
    "\n",
    "$$\\frac{\\mu}{\\rho u_e D} = \\frac{1}{Re_D}$$\n",
    "\n",
    "This is the Reynolds number based on the height D between the two plates. \n",
    "\n",
    "Using this equation we are left with\n",
    "\n",
    "$$\\frac{\\partial u'}{\\partial t'} = \\frac{1}{Re_D}\\frac{\\partial ^2 u'}{\\partial y'^2}$$\n",
    "\n",
    "Now that we have our equation, we can apply a numerical scheme to solve it. For this example, we will be using the Crank-Nicolson technique\n",
    "\n",
    "$$\\frac{u_j^{n+1}-u_j^{n}}{\\Delta t} = \\frac{1}{Re_D}\\frac{\\frac{1}{2} (u_{j+1}^{n+1}+u_{j+1}^n) +\\frac{1}{2} (-2u_j^{n+1} - 2u_j^n)+ \\frac{1}{2} (u_{j-1}^{n+1} + u_{j-1}^n )}{(\\Delta y)^2}$$\n",
    "\n",
    "Then solve for $u_j^{n+1}$\n",
    "\n",
    "$$u_j^{n+1} =u_j^n + \\frac{\\Delta t}{2(\\Delta y)^2 Re_D}(u_{j+1}^{n+1}+u_{j+1}^n -2u_j^{n+1} - 2u_j^n+u_{j-1}^{n+1} + u_{j-1}^n ) $$\n",
    "\n",
    "We still have sone values with the super script $n+1$ on the right side, so lets move those over and combine like terms. \n",
    "\n",
    "$$\\Big[-\\frac{\\Delta t}{2(\\Delta y)^2 Re_D}\\Big]u_{j-1}^{n+1} + \\Big[1+\\frac{\\Delta t}{(\\Delta y)^2 Re_D}\\Big]u_j^{n+1}+\\Big[-\\frac{\\Delta t}{2(\\Delta y)^2 Re_D}\\Big]u_{j+1}^{n+1} = \\Big[1-\\frac{\\Delta t}{(\\Delta y)^2 Re_D}\\Big]u_j^n +\\frac{\\Delta t}{2(\\Delta y)^2 Re_D}(u_{j+1}^n +u_{j-1}^n ) $$\n",
    "\n",
    "Reducing this equation to the form of \n",
    "\n",
    "$$Au_{j-1}^{n+1}+Bu_j^{n+1}+Au_{j+1}^{n+1} = K_j$$\n",
    "\n",
    "Where:\n",
    "\n",
    "$$A = -\\frac{\\Delta t}{2(\\Delta y)^2 Re_D}$$\n",
    "\n",
    "$$B =1+\\frac{\\Delta t}{(\\Delta y)^2 Re_D} $$\n",
    "\n",
    "$$K_j = \\Big[1-\\frac{\\Delta t}{(\\Delta y)^2 Re_D}\\Big]u_j^n +\\frac{\\Delta t}{2(\\Delta y)^2 Re_D}(u_{j+1}^n +u_{j-1}^n ) $$\n",
    "\n",
    "\n",
    "Because this problem is 1 dimensional at this point, our grid will resemble equally spaced points on a vertical line as shown below.\n"
   ]
  },
  {
   "cell_type": "code",
   "execution_count": 4,
   "metadata": {
    "collapsed": false
   },
   "outputs": [
    {
     "data": {
      "text/plain": [
       "(-0.00080000000000000004, 0.00080000000000000004, 0.0, 1.0)"
      ]
     },
     "execution_count": 4,
     "metadata": {},
     "output_type": "execute_result"
    },
    {
     "data": {
      "image/png": "[encoded data removed]",
      "text/plain": [
       "<matplotlib.figure.Figure at 0x1c6425883c8>"
      ]
     },
     "metadata": {},
     "output_type": "display_data"
    }
   ],
   "source": [
    "y = np.linspace(0,1,100)\n",
    "x = np.zeros(100)\n",
    "yPts = np.linspace(0,1,10)\n",
    "xPts = np.zeros(10)\n",
    "plt.plot(x,y)\n",
    "plt.scatter(xPts,yPts)\n",
    "plt.ylim([0,1])\n",
    "plt.axis('off')"
   ]
  },
  {
   "cell_type": "markdown",
   "metadata": {},
   "source": [
    "The vertical distance between points will be \n",
    "\n",
    "$$\\Delta y = \\frac{D}{N}$$\n",
    "\n",
    "N being the number of points we choose to use for our simulation. The boundary conditions are as follows:\n",
    "\n",
    "$$u_1 = 0$$\n",
    "\n",
    "$$u_{N+1} = 1$$\n",
    "\n",
    "The following equation that we derived applied to every grid point in the flow field which means we have $N-1$ equations with $N-1$ unknowns. \n",
    "$$Au_{j-1}^{n+1}+Bu_j^{n+1}+Au_{j+1}^{n+1} = K_j$$\n",
    "\n",
    "\\begin{equation*}\n",
    "    \\begin{bmatrix}\n",
    "        B & A & 0 & 0 & 0 & 0 & 0 & 0 & 0\\\\\n",
    "        A & B & A & 0 & 0 & 0 & 0 & 0 & 0\\\\\n",
    "        0 & A & B & A & 0 & 0 & 0 & 0 & 0\\\\\n",
    "        0 & 0 & A & B & A & 0 & 0 & 0 & 0\\\\\n",
    "          &   &   & ...  &   &   &   &   &  \\\\\n",
    "          &   &   &   &  ... &   &   &   &  \\\\\n",
    "          &   &   &   &   & ...  &   &   &  \\\\\n",
    "        0 & 0 & 0 & 0 & 0 & 0 & A & B & A\\\\\n",
    "        0 & 0 & 0 & 0 & 0 & 0 & 0 & A & B\\\\\n",
    "    \\end{bmatrix}\n",
    "    \\begin{bmatrix}\n",
    "        u^{n+1}_2\\\\\n",
    "        u^{n+1}_3\\\\\n",
    "        u^{n+1}_4\\\\\n",
    "        u^{n+1}_5\\\\\n",
    "        .\\\\\n",
    "        .\\\\\n",
    "        .\\\\\n",
    "        u^{n+1}_{N-1}\\\\\n",
    "        u^{n+1}_{N}\\\\\n",
    "    \\end{bmatrix}\n",
    "    =\n",
    "    \\begin{bmatrix}\n",
    "        K_2\\\\\n",
    "        K_3\\\\\n",
    "        K_4\\\\\n",
    "        K_5\\\\\n",
    "        .\\\\\n",
    "        .\\\\\n",
    "        .\\\\\n",
    "        K_{N-1}\\\\\n",
    "        K_{n}-Au_e\\\\\n",
    "    \\end{bmatrix}    \n",
    "\\end{equation*}\n",
    "\n",
    "This tridagonal matrix represents our system and can be solved using Thomas' algorithm. So let's take a minute to examine the algorithm. \n",
    "\n",
    "This algorithm is based on gaussian elimination. To put the system in more generic terms we will use the following system of equations. \n",
    "\n",
    "$$d_1u_1+a_1u_2 = c_1$$\n",
    "\n",
    "$$b_2u_1+d_2u_2+a_2u_3 = c_2$$\n",
    "\n",
    "$$b_3u_2+d_3u_3+a_3u_4 = c_3$$\n",
    "\n",
    "$$...$$\n",
    "\n",
    "$$...$$\n",
    "\n",
    "$$...$$\n",
    "\n",
    "$$b_{M-1}u_{M-2}+ d_{M-1}u_{M-1}+a_{M-1}u_M = c_{M-1}$$\n",
    "\n",
    "$$b_Mu_{M-1}+d_{M}u_M=c_M$$\n",
    "\n",
    "\n",
    "There are three terms for each row, a b and d. You can think of this as above the diagonal(a), below the diagonal(b) and the diagonal(d). \n",
    "We first march down the matrix to eliminate one term. First, we multiply the first row by $b_2$. \n",
    "\n",
    "$$b_2d_1u_1 + b_2a_1u_2 = c_1 b_2$$\n",
    "\n",
    "Then we multiply the second equation by $d_1$\n",
    "\n",
    "$$d_1b_2u_1 + d_1d_2u_2 + d_1a_2u_3 = c_2d_1$$\n",
    "\n",
    "Now we subtract the two equations we just calculated\n",
    "\n",
    "$$(d_1d_2-b_2a_1)u_2 + d_1a_2u_3 = c_2d_1 - c_1b_2$$\n",
    "\n",
    "Then we divide by $d_1$\n",
    "\n",
    "$$\\Big(d_2 - \\frac{b_2a_1}{d_1}\\Big)u_2 + a_2u_3 = c_2 - \\frac{c_1b_2}{d_1}$$\n",
    "\n",
    "The goal of this process was to eliminate the lower diagonal term $u_1$ in this example. We have now reduced this row to only two terms. We can write our new coefficients as such\n",
    "\n",
    "$$d'_2 = d_2 - \\frac{b_2a_1}{d_1}$$\n",
    "\n",
    "$$c'_2 = c_2 - \\frac{c_1b_2}{d_1}$$\n",
    "\n",
    "This equation simplifies down to \n",
    "\n",
    "$$d'_2u_2 + a_2u_3 = c'_2$$\n",
    "\n",
    "\n",
    "We will continue the next step by following the procedure above. Begin again by multiplying $b_3$.\n",
    "\n",
    "$$b_3d'_2u_2 + b_3a_2u_3 = b_3c'_2$$\n",
    "\n",
    "Then mulitply by $d'_2$\n",
    "\n",
    "$$d'_2b_3u_2 + d'_2d_3u_3 + d'_2a_3u_4 = d'_2c_3$$\n",
    "\n",
    "Now we subtract the two equations we just calculated\n",
    "\n",
    "$$(d'_2d_3-b_3a_2)u_3+d'_2a_3u_4 = d'_2c_3 - b_3c'_2$$\n",
    "\n",
    "Then we divide by $d'_2$\n",
    "\n",
    "$$\\Big(d_3 - \\frac{b_3a_2}{d'_2}\\Big)u_3 + a_3u_4 = c_3 - \\frac{b_3c'_2}{d'_2}$$\n",
    "\n",
    "If we continue further, we will see that the coefficients are in the same form al the way down the matrix. We can replace the main-diagonal coefficient with\n",
    "\n",
    "$$d_2-\\frac{b_2a_1}{d_1}$$\n",
    "\n",
    "We can also replace the term on the right hand side of the equation with\n",
    "\n",
    "$$c_2 - \\frac{c_1b_2}{d_1}$$\n",
    "\n",
    "Written in a general form, we get the following\n",
    "\n",
    "$$d'_i = d_i - \\frac{b_ia_{i-1}}{d'_{i-1}} : i = 2,3,...,M$$\n",
    "\n",
    "$$c'_i = c_i - \\frac{c'_{i-1} b_i}{d'_{i-1}} : i = 2,3,...,M$$\n",
    "\n",
    "This reduces our matrix to a bidiagonal form. And further examination will show that the last term is reduced to only one unknown\n",
    "\n",
    "$$u_M = \\frac{c'_M}{d'_M}$$\n",
    "\n",
    "We can solve this equation and work upwards to solve the rest of the matrix with this equation\n",
    "\n",
    "$$u_i = \\frac{c'_i - a_i u_{i+1}}{d'_i}$$\n",
    "\n",
    "So now let us write a function that will solve the tri diagonal matrix."
   ]
  },
  {
   "cell_type": "code",
   "execution_count": 5,
   "metadata": {
    "collapsed": true
   },
   "outputs": [],
   "source": [
    "def thomasAlg(b,d,a,c):\n",
    "    \"\"\"\n",
    "    b,d,a, and c are arrays with length N\n",
    "    The first value of b (b[0]) and the last\n",
    "    value of a (a[N]) will be ignored\n",
    "    \"\"\"\n",
    "    #Calculate  dPrime and cPrime\n",
    "    length = len(a)\n",
    "    dPrime = np.zeros(length)\n",
    "    cPrime = np.zeros(length)\n",
    "    \n",
    "    # First row is already two terms\n",
    "    dPrime[1] = d[1]\n",
    "    cPrime[1] = c[1]\n",
    "    # Gaussian elimination\n",
    "    for i in range(2,length):\n",
    "        dPrime[i]=d[i]-(b[i]*a[i-1])/dPrime[i-1]\n",
    "        cPrime[i] = c[i]-(cPrime[i-1]*b[i])/dPrime[i-1]\n",
    "    \n",
    "    # Working upward \n",
    "    u = np.zeros(length)\n",
    "    # Solve row N-1\n",
    "    u[length-2] = cPrime[length-2]/dPrime[length-2]\n",
    "    # Work up from the bottom\n",
    "    for i in range(length-3,0,-1):\n",
    "        u[i] = (cPrime[i]-a[i]*u[i+1])/dPrime[i]\n",
    "    return u"
   ]
  },
  {
   "cell_type": "markdown",
   "metadata": {},
   "source": [
    "## The Setup \n",
    "Now that we have our well posed problem and the numerics to solve the problem we can set up our problem. For our exaple, we will use 21 grid points meaning we have a delta in the y direction of \n",
    "\n",
    "$\\Delta y = \\frac{1}{20}$\n",
    "\n",
    "Our initial conditions are arean array of values for u"
   ]
  },
  {
   "cell_type": "code",
   "execution_count": 6,
   "metadata": {
    "collapsed": true
   },
   "outputs": [],
   "source": [
    "u = np.zeros(21) # all nodes except upper wall arte zero\n",
    "u[20] = 1 # wall BC set to reference velocity"
   ]
  },
  {
   "cell_type": "markdown",
   "metadata": {},
   "source": [
    "Now we need to figure out what our timestep is. The main advantage of this implicit method is that it is unconditionally stable whih means that it is stable for all values of $\\Delta t$. However, we do want an accurate solution so we will use the following equation.\n",
    "\n",
    "$$\\frac{\\alpha \\Delta t}{(\\Delta x)^2}\\leq\\frac{1}{2}$$\n",
    "\n",
    "For an explicit method, we can write \n",
    "\n",
    "$$\\frac{1}{Re_D}\\frac{\\Delta t}{(\\Delta x)^2}\\leq \\frac{1}{2}$$\n",
    "\n",
    "$$\\Delta t \\leq \\frac{1}{2}Re_D (\\Delta y)^2$$\n",
    "\n",
    "For our present implicit mehtod, we will calculate $\\Delta t$ as such\n",
    "\n",
    "$$\\Delta t = E Re_D (\\Delta y)^2$$\n",
    "\n",
    "Where E is a parameter to tune our simulation. We can also use this term to simplify our calculations of A, B , and K.\n",
    "\n",
    "$$E = \\frac{\\Delta t}{Re_D (\\Delta y)^2}$$\n",
    "\n",
    "$$A = -\\frac{E}{2}$$\n",
    "\n",
    "$$B = 1+E$$\n",
    "\n",
    "$$K_j = (1+E)u_j^n + \\frac{E}{2}(u_{j+1}^n + u_{j-1^n})$$\n",
    "\n",
    "We now have all of the equations required for the simulation. We will be using the follownig parameter\n",
    "\n",
    "$$E=1$$\n",
    "\n",
    "$$Re_D = 5000$$\n",
    "\n",
    "$$\\Delta t  = E Re_D (\\Delta y)^2 = 1(5000)(0.05)^2 = 12.5$$"
   ]
  },
  {
   "cell_type": "markdown",
   "metadata": {},
   "source": [
    "## Main Code"
   ]
  },
  {
   "cell_type": "code",
   "execution_count": 49,
   "metadata": {
    "collapsed": false
   },
   "outputs": [],
   "source": [
    "def main(iters,nodes):\n",
    "    u = np.zeros([nodes,iters])\n",
    "    u[nodes-1,0] = 1\n",
    "    deltay = 1/(nodes-1)\n",
    "    E=1\n",
    "    reD = 5000\n",
    "    deltat = E*reD*deltay**2\n",
    "    # our matrix will be N-2 by N-2 because we leave out the BC's\n",
    "    A = np.ones(nodes)*(-E/2)\n",
    "    B = np.ones(nodes)*(1+E)\n",
    "    K = np.zeros(nodes)\n",
    "    # Nodes 1 and 21 are known\n",
    "    for i in range(0,iters-1):\n",
    "        for j in range(1,nodes-1): \n",
    "            K[j] = (1-E)*u[j,i] + (E/2)*(u[j+1,i]+u[j-1,i]) \n",
    "        K[-2] = K[-2]-A[-2]\n",
    "        u[:,i+1] =thomasAlg(A,B,A,K)\n",
    "        u[-1,i+1]=1\n",
    "    return u"
   ]
  },
  {
   "cell_type": "code",
   "execution_count": 50,
   "metadata": {
    "collapsed": true
   },
   "outputs": [],
   "source": [
    "u =main(2001,75)"
   ]
  },
  {
   "cell_type": "code",
   "execution_count": 51,
   "metadata": {
    "collapsed": false
   },
   "outputs": [
    {
     "data": {
      "text/plain": [
       "<matplotlib.legend.Legend at 0x1c64654bd30>"
      ]
     },
     "execution_count": 51,
     "metadata": {},
     "output_type": "execute_result"
    },
    {
     "data": {
      "image/png": "[encoded data removed]",
      "text/plain": [
       "<matplotlib.figure.Figure at 0x1c6453754a8>"
      ]
     },
     "metadata": {},
     "output_type": "display_data"
    }
   ],
   "source": [
    "y = np.linspace(0,1,len(u[:,0]))\n",
    "plt.plot(u[:,0],y,label='t=0')\n",
    "plt.plot(u[:,25],y,label='t=25')\n",
    "plt.plot(u[:,125],y,label='t=125')\n",
    "plt.plot(u[:,500],y,label='t=500')\n",
    "plt.plot(u[:,2000],y,label='t=2000')\n",
    "plt.xlabel('u/u_e')\n",
    "plt.ylabel('y/D')\n",
    "plt.legend(loc=4)"
   ]
  },
  {
   "cell_type": "markdown",
   "metadata": {
    "collapsed": false
   },
   "source": [
    "The results of our implicit CFD code match our expectations from the analytical solution. Additionally, we can see how the steadt state develops over time. "
   ]
  }
 ],
 "metadata": {
  "anaconda-cloud": {},
  "kernelspec": {
   "display_name": "Python [Root]",
   "language": "python",
   "name": "Python [Root]"
  },
  "language_info": {
   "codemirror_mode": {
    "name": "ipython",
    "version": 3
   },
   "file_extension": ".py",
   "mimetype": "text/x-python",
   "name": "python",
   "nbconvert_exporter": "python",
   "pygments_lexer": "ipython3",
   "version": "3.5.2"
  }
 },
 "nbformat": 4,
 "nbformat_minor": 2
}
