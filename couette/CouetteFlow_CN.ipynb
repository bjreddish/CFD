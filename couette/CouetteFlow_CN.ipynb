{
 "cells": [
  {
   "cell_type": "markdown",
   "metadata": {},
   "source": [
    "# Couette Flow of Incompressible Flow: Crank-Nicolson Method \n",
    "In previous examples, we have looked at inviscid compressible flow using explicit mehtods. Now we are going to explore a prbloem with an non-compressible viscous fluid. Additionally, we will be solving this problem with an implicit mehtod. More specifically, we will be implimenting the Crank-Nicolson implicit mehtod. \n",
    "The system we will be modeling is Couette flow which can be thought of as a fluid inbetween two parallel plates separated by some distance D. The upper plate is moving at some velocity and the lover plate is stationary. The flow field between the plates is driven purely by the shear stresses along the wall of the plates. This results in a velocity profile across the flow $u = u(y)$.\n",
    "\n",
    "the governing equation for this flow is the x-momentum equation \n",
    "\n",
    "$ \\rho \\frac{Du}{Dt} = -\\frac{\\partial p}{\\partial x} + \\frac{\\partial \\tau_{xx}}{\\partial x} + \\frac{\\partial \\tau_{yx}}{\\partial y} + \\frac{\\partial \\tau_{zx}}{\\partial z}+\\rho f_x$\n",
    "\n"
   ]
  }
 ],
 "metadata": {
  "kernelspec": {
   "display_name": "Python 3",
   "language": "python",
   "name": "python3"
  },
  "language_info": {
   "codemirror_mode": {
    "name": "ipython",
    "version": 3
   },
   "file_extension": ".py",
   "mimetype": "text/x-python",
   "name": "python",
   "nbconvert_exporter": "python",
   "pygments_lexer": "ipython3",
   "version": "3.6.7"
  }
 },
 "nbformat": 4,
 "nbformat_minor": 2
}
