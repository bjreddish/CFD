{
 "cells": [
  {
   "cell_type": "code",
   "execution_count": 2,
   "metadata": {
    "collapsed": true
   },
   "outputs": [],
   "source": [
    "import numpy as np                 #loading in numpy\n",
    "from matplotlib import pyplot as plt      #load matplotlib\n",
    "import math                        # load math \n",
    "#this makes matplotlib plots appear in the notebook (instead of a separate window)\n",
    "%matplotlib inline"
   ]
  },
  {
   "cell_type": "markdown",
   "metadata": {},
   "source": [
    "## Couette Flow of Incompressible Flow: Pressure Correction Method\n",
    "We will now look at another way to solve the Couette flow problem presented in Chapter 9 of The pressure correction method looks at sovling the problem in two dimensions. Although our problem still consists of twho infinitely long flat plates, our computational plane is finite. In this case we will construct a 2D model that is 0.5 ft long and 0.01 ft tall.The upper surface will be moving at some velocity $u_e$ and the density of our fluid will be 0.002377 slug/ft^3. The value of $u_e$ will be set to 1 ft/set resulting in a Retnolds number of 63.6. We will build the grid by staggering three different grids for velocity in x, velocity in y, and pressure. The plot below shows the make up of the different grids. Individually, each grid will have their own index, but the will be staggered in relation to eachother. "
   ]
  },
  {
   "cell_type": "code",
   "execution_count": 3,
   "metadata": {
    "collapsed": false
   },
   "outputs": [
    {
     "data": {
      "text/plain": [
       "<matplotlib.legend.Legend at 0x1e6b306bcc0>"
      ]
     },
     "execution_count": 3,
     "metadata": {},
     "output_type": "execute_result"
    },
    {
     "data": {
      "image/png": "[encoded data removed]",
      "text/plain": [
       "<matplotlib.figure.Figure at 0x1e6b2fe73c8>"
      ]
     },
     "metadata": {},
     "output_type": "display_data"
    }
   ],
   "source": [
    "plt.figure(figsize=(14,8))\n",
    "xvalues = np.linspace(1,23,23);\n",
    "yvalues = np.linspace(1,12,12);\n",
    "vx, vy = np.meshgrid(xvalues, yvalues)\n",
    "fig = plt.scatter(vx, vy, marker='x', color='k',label='v')\n",
    "xvalues = np.linspace(1,22,22)+0.5;\n",
    "yvalues = np.linspace(1,11,11)+0.5;\n",
    "vx, vy = np.meshgrid(xvalues, yvalues)\n",
    "fig = plt.scatter(vx, vy, marker='o', color='b',label='u')\n",
    "xvalues = np.linspace(1,21,21)+1;\n",
    "yvalues = np.linspace(1,11,11)+0.5;\n",
    "vx, vy = np.meshgrid(xvalues, yvalues)\n",
    "fig = plt.scatter(vx, vy, marker='o', color='r',label='p')\n",
    "plt.xlim([0,25])\n",
    "plt.ylim([0,14])\n",
    "plt.text(4.1,3.65,'p(3,3)')\n",
    "plt.legend()"
   ]
  },
  {
   "cell_type": "markdown",
   "metadata": {},
   "source": [
    "The grids will have the followig dimensions:\n",
    "\n",
    "Pressure: 21 x 11\n",
    "\n",
    "u (velocity in x): 22x11\n",
    "\n",
    "v (velocity in y): 23x12\n",
    "\n",
    "For the pressure correction method, we will use the notation of $*$ to denote a guessed value. The basic steps for this method is:\n",
    "\n",
    "**1.** Guess pressure $p^*$\n",
    "\n",
    "**2.** Use guessed pressure $p^*$ to get $u^*$ and $v^*$\n",
    "\n",
    "**3.** Substitude $p^*$, $u^*$, and $v^*$ into the continuity equation. Use the continum equaiton to construct a pressure correction $p'$. Then our corrected pressures and corresponding flow variables will be:\n",
    "\n",
    "$$p=p^* + p'$$\n",
    "\n",
    "$$u=u^* + u'$$\n",
    "\n",
    "$$v=v^* + v'$$\n",
    "\n",
    "**4.** The corrected value of $p$ is the new $p^*$ and we will go back to step 2 and iterate until we have a flow field that satisfies th continuity equation.\n",
    "\n",
    "Because this is an iterative solution, we need to state our initial conditions. For all nodes except (i,j)=(15,5), the values are:\n",
    "\n",
    "$$u =v =0$$\n",
    "\n",
    "$$p^* = p' =0$$\n",
    "\n",
    "The boundary values are set as:\n",
    "\n",
    "Upper wall:\n",
    "\n",
    "$u = u_e$\n",
    "\n",
    "$v=0$\n",
    "\n",
    "Lower wall:\n",
    "\n",
    "$u = v = 0$\n",
    "\n",
    "Inflow:\n",
    "\n",
    "$p' =0$\n",
    "\n",
    "$v=0$\n",
    "\n",
    "Outflow:\n",
    "\n",
    "$p'=0$\n",
    "\n",
    "These boundary conditions are held constant through the entire iteration process. The variables not stated as constant in these boundary condition are allowed to float. Additionally, instead of enforcing a zero-pressure gradient at the wall, we will enfore that that at the wall $p'=0$. A constant pressure gradient is allowable here because the steady state solution has a uniform pressure.\n",
    "\n",
    "Now we must address the condition at (15,5). At this point in our grid, we will set $v = 0.5$ $ft/sec$. this is one half of the velocity at the upper wall boundary condition. This is called a \"velocity spike\", and it will  produce a two dimensional flow during the iterative process. We are interested in a 2D solution that has some variation in the x axis and this initial condition guarantees this. Also, the dissipation of this velocity will be a good metric in showing that our pressure correction technique is working. It is important to note that this is not an accurate transient simulation. The iterations are like little steps in time, but they do not accurately represent a transient simulation. The pressure correction method is only accurate in the steady state configuration. Now we will get into the steps of solving this well posed problem.\n",
    "\n",
    "**Step 1:** Guess at values of $p^*$ at all of the interior grid points. Set values for $(\\rho u^*)^n$ and $(\\rho v^*)^n$ at all grid point arbitrarily. Note that all of these values will be zero except for $u_e=1$ ft/sec at the upper wall and $v^*_{15,5} = 0.5$ ft/sec at the velocity spike.\n",
    "\n",
    "**Step 2:** Solve for $(\\rho u^*)^{n+1}$ and $(\\rho v^*)^{n+1}$ forall interior points with the following two equations\n",
    "\n",
    "\n",
    "$$(\\rho u^*)^{n+1}_{i+1/2,j} = (\\rho u^*)^n_{i+1/2,j}+ A^* \\Delta t - \\frac{\\Delta t}{\\Delta x}(p^*_{i+1,j}-p^*_{i,j})$$\n",
    "\n",
    "$$(\\rho v^*)^{n+1}_{i,j+1/2} = (\\rho v^*)^n_{i,j+1/2}+ B^* \\Delta t - \\frac{\\Delta t}{\\Delta x}(p^*_{i,j+1}-p^*_{i,j})$$\n",
    "\n",
    "Where\n",
    "\n",
    "$$A^* = -\\Big[\\frac{(\\rho u^2)^n_{i+3/2,j}-(\\rho u^2)^n_{i-1/2,j}}{2\\Delta x} + \\frac{(\\rho u \\bar{v})^n_{i+1/2,j+1} - (\\rho \\bar{\\bar{v}})^n_{i+1/2,j-1}}{2 \\Delta y} \\Big] + \\mu \\Big[ \\frac{u^n_{i+3/2,j}-2u^n_{i+1/2,j}+u^n_{i-1/2,j}}{(\\Delta x)^2} + \\frac{u^n_{i+1/2,j+1}-2u^n_{i+1/2,j}+u^n_{i+1/2,j-1}}{(\\Delta y)^2} \\Big]$$\n",
    "\n",
    "$$\\bar{v} = \\frac{1}{2}(v^n_{i,j+1/2}+ v^n_{i+1,j+1/2})$$\n",
    "\n",
    "$$\\bar{\\bar{v}} = \\frac{1}{2}(v^n_{i,j-1/2}+ v^n_{i+1,j-1/2})$$\n",
    "\n",
    "and \n",
    "\n",
    "$$B^* = -\\Big[ \\frac{(\\rho v \\bar{u})^n_{i+1,j+1/2}-(\\rho v \\bar{\\bar{u}})^n_{i-1,j+1/2} }{2\\Delta x} + \\frac{(\\rho v^2)^n_{i,j+3/2} - (\\rho v^2)^n_{i,j-1/2}}{2 \\Delta y} \\Big] + \\mu \\Big[ \\frac{v^n_{i+1,j+1/2}-2v^n_{i,j+1/2}+v^n_{i-1,j+1/2} }{(\\Delta x)^2} + \\frac{v^n_{i,j+3/2}-2v^n_{i,j+1/2}+v^n_{i,j-1/2} }{(\\Delta y)^2} \\Big]$$\n",
    "\n",
    "$$\\bar{u} = \\frac{1}{2}(u^n_{i+1/2,j}+ u^n_{i+1/2,j+1})$$\n",
    "\n",
    "$$\\bar{\\bar{u}} = \\frac{1}{2}(u^n_{i-1/2,j}+ u^n_{i-1/2,j+1})$$\n",
    "\n",
    "Now we have a bunch of long equations with some very confusing indexing. To attempt to understand how this indexing works with the actual computation, let's do an example. We will begin by writing the above equations for the pressure grid point (3,3). This point is marked on the figure above for a visual reference. The location (3,3) does not represent it's global location, but the index of where it is within the pressure grid. \n",
    "\n",
    "$$(\\rho u^*)^{n+1}_{4,3} = (\\rho u^*)^n_{4,3}+ A^* \\Delta t - \\frac{\\Delta t}{\\Delta x}(p^*_{4,3}-p^*_{3,3})$$\n",
    "\n",
    "and the corresponding $A^*$ value\n",
    "\n",
    "$$A^* = -\\Big[\\frac{(\\rho u^2)^n_{5,3}-(\\rho u^2)^n_{3,3}}{2\\Delta x} + \\frac{(\\rho u \\bar{v})^n_{4,4} - (\\rho \\bar{\\bar{v}})^n_{4,2}}{2 \\Delta y} \\Big] + \\mu \\Big[ \\frac{u^n_{5,3}-2u^n_{4,3}+u^n_{3,3}}{(\\Delta x)^2} + \\frac{u^n_{4,4}-2u^n_{4,3}+u^n_{4,2}}{(\\Delta y)^2} \\Big]$$\n",
    "\n",
    "$$\\bar{v} = \\frac{1}{2}(v^n_{4,4}+ v^n_{5,4})$$\n",
    "\n",
    "$$\\bar{\\bar{v}} = \\frac{1}{2}(v^n_{4,3}+ v^n_{5,3})$$\n",
    "\n",
    "Then we solve for the other term at (3,3) using the other set of equations\n",
    "\n",
    "$$(\\rho v^*)^{n+1}_{4,4} = (\\rho v^*)^n_{4,4}+ B^* \\Delta t - \\frac{\\Delta t}{\\Delta x}(p^*_{3,4}-p^*_{3,3})$$\n",
    "\n",
    "$$B^* = -\\Big[ \\frac{(\\rho v \\bar{u})^n_{5,4}-(\\rho v \\bar{\\bar{u}})^n_{3,4} }{2\\Delta x} + \\frac{(\\rho v^2)^n_{4,5} - (\\rho v^2)^n_{4,3}}{2 \\Delta y} \\Big] + \\mu \\Big[ \\frac{v^n_{5,4}-2v^n_{4,4}+v^n_{3,4} }{(\\Delta x)^2} + \\frac{v^n_{4,5}-2v^n_{4,4}+v^n_{4,3} }{(\\Delta y)^2} \\Big]$$\n",
    "\n",
    "$$\\bar{u} = \\frac{1}{2}(u^n_{4,3}+ u^n_{4,4})$$\n",
    "\n",
    "$$\\bar{\\bar{u}} = \\frac{1}{2}(u^n_{3,3}+ u^n_{3,4})$$\n",
    "\n",
    "Now that we have calculated values for $\\rho u^*$ and $\\rho v^*$ we can extract $u^*$ and $v^*$ by dividing by density. The we calculate the values of $u^*$ at the boundary conditions with a zeroth-order extra-polation from the interior. \n",
    "\n",
    "For all j:\n",
    "$u^*_{1,j} = u^*_{2,j}$\n",
    "\n",
    "The values for $u^*$ and $v^*$ at the outflow are calculated for all of j as\n",
    "\n",
    "$u^*_{22,j} = u^*_{21,j}$\n",
    "\n",
    "$v^*_{23,j} = v^*_{22,j}$\n",
    "\n",
    "The values for $\\Delta x$, $\\Delta y$, and $\\Delta t$ are calculated as such\n",
    "\n",
    "$\\Delta x = \\frac{0.5}{20} = 0.025$ $ ft$\n",
    "\n",
    "$\\Delta y = \\frac{0.01}{10} = 0.001$ $ft$\n",
    "\n",
    "$\\Delta t = 0.001$ $s$\n",
    "\n",
    "At this point $\\Delta t$ is chosen arbitrarily but if we pick one that is too big, our siulation will become unstable. "
   ]
  },
  {
   "cell_type": "code",
   "execution_count": 91,
   "metadata": {
    "collapsed": false
   },
   "outputs": [],
   "source": [
    "def uvGuess(p,rhou,rhov,u,v,deltax,deltay,deltat,rho,mu):\n",
    "    rhouNew = np.zeros(rhou.shape)\n",
    "    rhovNew = np.zeros(rhov.shape)\n",
    "    # Loop through all points in u\n",
    "    for i in range(1,rhou.shape[0]-1): #loop through interior points 2-(N-1)\n",
    "        for j in range(1,rhou.shape[1]-1):\n",
    "            vbar = 0.5*(v[i,j+1]+v[i+1,j+1])\n",
    "            v2bar = 0.5*(v[i,j]+v[i+1,j])\n",
    "            term1 = ( (rho*u[i+1,j]**2) - (rho*u[i-1,j]**2) ) /(deltax*2) \n",
    "            term2 = ( (rhou[i,j+1]*vbar) - (rhou[i,j-1]*v2bar) ) / (deltay*2)\n",
    "            term3 = (u[i+1,j]-2*u[i,j]+u[i-1,j])/(deltax**2)\n",
    "            term4 = (u[i,j+1]-2*u[i,j]+u[i,j-1])/(deltay**2)\n",
    "            A =-(term1+term2)+mu*(term3+term4)\n",
    "            rhouNew[i,j] = rhou[i,j] + A*deltat - (deltat/deltax)*(p[i,j]-p[i-1,j])\n",
    "    \n",
    "    # loop through allpoints in v\n",
    "    for i in range(1,rhov.shape[0]-1): #loop through interior points 2-(N-1)\n",
    "        for j in range(1,rhov.shape[1]-1):\n",
    "            ubar = 0.5*(u[i,j-1]+u[i,j])\n",
    "            u2bar = 0.5*(u[i-1,j-1]+u[i-1,j])\n",
    "            term1 = ( (rhov[i+1,j]*ubar) - (rhov[i-1,j]*u2bar) ) / (deltax*2)\n",
    "            term2 = ( (rho*v[i,j+1]**2) - (rho*v[i,j-1]**2) ) /(deltay*2) \n",
    "            term3 = (v[i+1,j]-2*v[i,j]+v[i-1,j])/(deltax**2)\n",
    "            term4 = (v[i,j+1]-2*v[i,j]+v[i,j-1])/(deltay**2)\n",
    "            B =-(term1+term2)+mu*(term3+term4)\n",
    "            rhovNew[i,j] = rhov[i,j] + B*deltat - (deltat/deltay)*(p[i-1,j]-p[i-1,j-1])\n",
    "    return rhouNew,rhovNew"
   ]
  },
  {
   "cell_type": "markdown",
   "metadata": {},
   "source": [
    "**Step 3:** Now we use the predicted values to solve for $p'$ using the pressure correction formula. \n",
    "\n",
    "$$ap'_{i,j} + bp'_{i+1,j} + bp'_{i-1,j} + cp'_{i,j+1} + cp'_{i,j-1} + d = 0$$\n",
    "\n",
    "Where \n",
    "\n",
    "$$a = 2\\Big[ \\frac{\\Delta t}{(\\Delta x)^2}+\\frac{\\Delta t}{(\\Delta y)^2}\\Big]$$\n",
    "\n",
    "$$b=-\\frac{\\Delta t}{(\\Delta x)^2}$$\n",
    "\n",
    "$$c = - \\frac{\\Delta t}{(\\Delta y)^2}$$\n",
    "\n",
    "$$d = \\frac{1}{\\Delta x}[(\\rho  u^* ) _{i+1/2,j} - (\\rho u^*)_{i-1/2,j}] + \\frac{1}{\\Delta y}[(\\rho v^*)_{i,j+1/2}-(\\rho v^*)_{i,j-1/2}]$$\n",
    "\n",
    "And this is what the calculations would look like if we were interested in point (3,3).\n",
    "\n",
    "$$p'_{3,3} = - \\frac{1}{a}[bp'_{4,3} + bp'_{2,3} + cp'_{3,4} + cp'_{3,2} + d]$$\n",
    "\n",
    "where\n",
    "\n",
    "$$d = \\frac{1}{\\Delta x}[(\\rho u^*)_{4,3} - (\\rho u^*)_{3,3}]+ \\frac{1}{\\Delta y}[(\\rho v^*)_{4,4}-(\\rho v^*)_{4,3}]$$"
   ]
  },
  {
   "cell_type": "code",
   "execution_count": 114,
   "metadata": {
    "collapsed": true
   },
   "outputs": [],
   "source": [
    "def calcpPrime(pPrime,rhouNew,rhovNew,deltax,deltay,deltat):\n",
    "    \"\"\"We will use a pressure relaxation rechnique where\n",
    "    we loop through all interior points by some arbirary \n",
    "    sequence and iterate until we converge on a solution.\n",
    "    This is only on step in the iteration. We will update\n",
    "    the velocities and pressures each time\"\"\"\n",
    "    residual=1.0\n",
    "    newpPrime = np.zeros(pPrime.shape)\n",
    "    # Calculte coefficients\n",
    "    a = 2*(deltat/(deltax**2) + deltat/(deltay**2))\n",
    "    b = -(deltat/(deltax**2))\n",
    "    c = -(deltat/(deltay**2))\n",
    "    while residual > 0.000001:\n",
    "        # Loop through all interior points\n",
    "        for i in range(1,pPrime.shape[0]-1):\n",
    "            for j in range(1,pPrime.shape[1]-1):\n",
    "                d = (1/deltax) * (rhouNew[i+1,j]-rhouNew[i,j]) + (1/deltay) * (rhovNew[i+1,j+1]-rhovNew[i+1,j])\n",
    "                newpPrime[i,j] = -(1/a)*(b*pPrime[i+1,j] + b*pPrime[i-1,j] + c*pPrime[i,j+1] + c*pPrime[i,j-1] + d)\n",
    "        # asses residual\n",
    "        delta = abs(pPrime - newpPrime)\n",
    "        residual = delta.max()\n",
    "        #print(residual)\n",
    "        # set newValue to pPrime\n",
    "        pPrime[1:-1,1:-1] = newpPrime[1:-1,1:-1]\n",
    "        # All interior points are updates and BC's for pPrime remain unchanged     \n",
    "    return pPrime"
   ]
  },
  {
   "cell_type": "markdown",
   "metadata": {},
   "source": [
    "**Step 4:** Now we can calculate $p^{n+1}$ at every internal grid point\n",
    "\n",
    "$$p^{n+1}_{i,j} = (p^*)^n_{i,j}+\\alpha _p p'$$\n",
    "\n",
    "Where $\\alpha _p$ is an underrelaxation factor that we will set to 0.1 for this simulation."
   ]
  },
  {
   "cell_type": "code",
   "execution_count": 46,
   "metadata": {
    "collapsed": true
   },
   "outputs": [],
   "source": [
    "def updatePressure(p,pPrime,alpha):\n",
    "    # update all internal points\n",
    "    for i in range(1,pPrime.shape[0]-1):\n",
    "        for j in range(1,pPrime.shape[1]-1):\n",
    "            p[i,j] = p[i,j] + alpha*pPrime[i,j]\n",
    "    return p"
   ]
  },
  {
   "cell_type": "markdown",
   "metadata": {},
   "source": [
    "**Step 5:** To move to the next iteration, we say that our newly calculated value for $p^{n+1}_{i,j}$ is the guess value back in stepnumber 2. We repeat this process (steps 2 through 5), until our solution converges."
   ]
  },
  {
   "cell_type": "code",
   "execution_count": 225,
   "metadata": {
    "collapsed": false
   },
   "outputs": [],
   "source": [
    "def main(iters):\n",
    "    np.set_printoptions(precision=2)\n",
    "    # declare flow/simulation variables \n",
    "    rho = 0.002377 # density slugs/ft^3\n",
    "    ue = 1 # velocity ft/sec\n",
    "    length = 0.5 # length in x ft\n",
    "    height = 0.01 # height in y ft\n",
    "    Re = 63.6 # Reynolds number\n",
    "    mu = rho*ue*height/Re\n",
    "    alpha = 0.1\n",
    "    \n",
    "    # Generate grids\n",
    "    p = np.zeros([21,11])\n",
    "    pPrime = np.zeros([21,11])\n",
    "    \n",
    "    u = np.zeros([22,11])\n",
    "    rhou = np.zeros([22,11])\n",
    "    \n",
    "    v = np.zeros([23,12])\n",
    "    rhov = np.zeros([23,12])\n",
    "    \n",
    "    # BC's\n",
    "    rhou[:,-1] = ue*rho\n",
    "    u[:,-1] = ue\n",
    "    \n",
    "    # Initial conditions\n",
    "    rhov[14,4]=0.5*ue*rho # set velocity spike at noe 15,5 pythoninx[14,4]\n",
    "    v[14,4]=0.5\n",
    "    \n",
    "    # Space and time steps\n",
    "    deltax = 0.5/20\n",
    "    deltay = 0.01/10\n",
    "    deltat = 0.001\n",
    "\n",
    "    for i in range(iters):\n",
    "        ########s#####################\n",
    "        #Calculate uGuess and vGuess#\n",
    "        #############################\n",
    "        rhouNew,rhovNew = uvGuess(p,rhou,rhov,u,v,deltax,deltay,deltat,rho,mu)\n",
    "        \n",
    "        #Enforce BC's\n",
    "        rhouNew[:,-1] = rho*ue # top\n",
    "        rhouNew[:,0] = 0 # bottom\n",
    "        rhouNew[0,:] = rhouNew[1,:] # inflow (left)\n",
    "        rhouNew[-1,:] = rhouNew[-2,:] # outflow (right)\n",
    "        \n",
    "        rhovNew[:,-1] = 0 # top\n",
    "        rhovNew[:,0] = 0 # bottom\n",
    "        rhovNew[0,:] = 0 # inflow (left)\n",
    "        rhovNew[-1,:] = rhovNew[-2,:] # outflow (right)\n",
    "        ##################\n",
    "        #Calculate pPrime#\n",
    "        ##################\n",
    "        pPrime = calcpPrime(pPrime,rhouNew,rhovNew,deltax,deltay,deltat)\n",
    "    \n",
    "        #################\n",
    "        #Calculate new p#\n",
    "        #################\n",
    "        p = updatePressure(p,pPrime,alpha)\n",
    "        rhou = rhouNew\n",
    "        rhov = rhovNew\n",
    "        u = rhou/rho \n",
    "        v = rhov/rho\n",
    "    \n",
    "    \n",
    "    return p,rhou,rhov,u,v,pPrime\n"
   ]
  },
  {
   "cell_type": "code",
   "execution_count": 226,
   "metadata": {
    "collapsed": false
   },
   "outputs": [],
   "source": [
    "p,rhou,rhov,u,v,pPrime = main(200)"
   ]
  },
  {
   "cell_type": "code",
   "execution_count": 230,
   "metadata": {
    "collapsed": false
   },
   "outputs": [
    {
     "data": {
      "image/png": "[encoded data removed]",
      "text/plain": [
       "<matplotlib.figure.Figure at 0x1e6befd7f98>"
      ]
     },
     "metadata": {},
     "output_type": "display_data"
    }
   ],
   "source": [
    "f = plt.figure(figsize=(12,4))\n",
    "plt.subplot(1, 2, 1,)\n",
    "plt.contourf(np.transpose(u))\n",
    "plt.colorbar(label='ft/s')\n",
    "plt.title('u Vel')\n",
    "plt.subplot(1,2,2)\n",
    "plt.contourf(np.transpose(v))\n",
    "plt.title('v Vel')\n",
    "plt.colorbar(label='ft/s')\n",
    "plt.show()"
   ]
  },
  {
   "cell_type": "code",
   "execution_count": 233,
   "metadata": {
    "collapsed": false
   },
   "outputs": [
    {
     "data": {
      "text/plain": [
       "<matplotlib.contour.QuadContourSet at 0x1e6c1c9e978>"
      ]
     },
     "execution_count": 233,
     "metadata": {},
     "output_type": "execute_result"
    },
    {
     "data": {
      "image/png": "[encoded data removed]",
      "text/plain": [
       "<matplotlib.figure.Figure at 0x1e6c1c08860>"
      ]
     },
     "metadata": {},
     "output_type": "display_data"
    }
   ],
   "source": [
    "x = np.arange(0,p.shape[0], 1)\n",
    "y = np.arange(0,p.shape[1], 1)\n",
    "X, Y = np.meshgrid(x, y)\n",
    "plt.contourf(X,Y,np.transpose(p))"
   ]
  }
 ],
 "metadata": {
  "anaconda-cloud": {},
  "kernelspec": {
   "display_name": "Python [Root]",
   "language": "python",
   "name": "Python [Root]"
  },
  "language_info": {
   "codemirror_mode": {
    "name": "ipython",
    "version": 3
   },
   "file_extension": ".py",
   "mimetype": "text/x-python",
   "name": "python",
   "nbconvert_exporter": "python",
   "pygments_lexer": "ipython3",
   "version": "3.5.2"
  }
 },
 "nbformat": 4,
 "nbformat_minor": 2
}
