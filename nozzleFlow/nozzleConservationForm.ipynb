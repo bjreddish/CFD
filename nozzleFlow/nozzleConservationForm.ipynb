{
 "cells": [
  {
   "cell_type": "markdown",
   "metadata": {},
   "source": [
    "# Subsonic and Supersonic Isentropic Nozzle Flow Using Goverining Equations in Conservation Form\n",
    "\n",
    "From the previous notebook, we solved the supersonic and the subsonic nozzle flow problems with a 1-D CFD solver. Here we will revisit the same problem from a different angle. This time, we will make use of the conservation form of the governing equations. This problem illistrtates why it is important to differentiate between governing equations in conservation and nonconservation forms. Both forms of the equations represent the principles of mass conservation, momentum, and energy. Though this may be true, there are numerical reasons why one form is better than another. A good example of that is shock capturing. In the case of shock capturing, the conservation form is well suited to solve the problem, whereas the nonconservation form would produce poor results. "
   ]
  }
 ],
 "metadata": {
  "anaconda-cloud": {},
  "kernelspec": {
   "display_name": "Python [Root]",
   "language": "python",
   "name": "Python [Root]"
  },
  "language_info": {
   "codemirror_mode": {
    "name": "ipython",
    "version": 3
   },
   "file_extension": ".py",
   "mimetype": "text/x-python",
   "name": "python",
   "nbconvert_exporter": "python",
   "pygments_lexer": "ipython3",
   "version": "3.5.2"
  }
 },
 "nbformat": 4,
 "nbformat_minor": 0
}
