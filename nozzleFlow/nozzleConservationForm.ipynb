{
 "cells": [
  {
   "cell_type": "code",
   "execution_count": 4,
   "metadata": {
    "collapsed": true
   },
   "outputs": [],
   "source": [
    "import numpy as np                 #loading in numpy\n",
    "from matplotlib import pyplot      #load matplotlib\n",
    "import math                        # load math in \n",
    "#this makes matplotlib plots appear in the notebook (instead of a separate window)\n",
    "%matplotlib inline "
   ]
  },
  {
   "cell_type": "markdown",
   "metadata": {},
   "source": [
    "# Subsonic and Supersonic Isentropic Nozzle Flow Using Goverining Equations in Conservation Form\n",
    "\n",
    "From the previous notebook, we solved the supersonic and the subsonic nozzle flow problems with a 1-D CFD solver. Here we will revisit the same problem from a different angle. This time, we will make use of the conservation form of the governing equations. This problem illistrtates why it is important to differentiate between governing equations in conservation and nonconservation forms. Both forms of the equations represent the principles of mass conservation, momentum, and energy. Though this may be true, there are numerical reasons why one form is better than another. A good example of that is shock capturing. In the case of shock capturing, the conservation form is well suited to solve the problem, whereas the nonconservation form would produce poor results. \n",
    "\n",
    "## Governing Equations\n",
    "\n",
    "We begin this analysis with the continuity equation we had when we derived the govering equation in the previous example. \n",
    "\n",
    "$\\frac{\\partial (\\rho A)}{\\partial t} + \\frac{\\partial (\\rho AV)}{\\partial x} = 0$\n",
    "\n",
    "This equation is already in conservation, so we will use it in this form whereas in the last example we showed that with some manipulation we can go back and forth between the conservation and nonconservation forms of the equations. To stay consistent with our approach, we will put this equation in terms of non-dimensional veriables. This process is shown below.\n",
    "\n",
    "$\\frac{\\partial \\Big(\\frac{\\rho}{\\rho_0}\\frac{A}{A^*}\\Big)}{\\partial \\Big(\\frac{t}{l/a_0}\\Big)} \\Big(\\frac{\\rho_0 A^* a_0}{L}\\Big) + \\frac{\\partial \\Big(\\frac{\\rho}{\\rho_0}\\frac{A}{A^*}\\frac{V}{a_0}\\Big)}{\\partial (x/L)} \\Big(\\frac{\\rho_0 A^* a_0}{L}\\Big)= 0$\n",
    "\n",
    "\n",
    "In simpler terms, this reduces to:\n",
    "\n",
    "$\\frac{\\partial (\\rho' A')}{\\partial t'} + \\frac{\\partial (\\rho' A'V')}{\\partial x'} = 0$\n",
    "\n",
    "\n",
    "Now on to the momentum equation. \n",
    "\n",
    "$\\frac{\\partial (\\rho A V)}{\\partial t} + \\frac{\\partial (\\rho AV^2)}{\\partial x} = -A \\frac{\\partial p}{\\partial x}$\n",
    "\n",
    "This equation is already in conservation form, but now we want to rearrage it so that it fits well with the set up of our numerical solution. You will see why we are doing this manipulation soon. \n",
    "\n",
    "So lets break up the term on the right side with the following definition:\n",
    "\n",
    "$\\frac{\\partial (pA)}{\\partial x} = p \\frac{\\partial A}{\\partial x} + A\\frac{\\partial p}{\\partial x}$\n",
    "\n",
    "We can rearrange this eqation to get $-A\\partial p / \\partial x$ on one side.\n",
    "\n",
    "$- A\\frac{\\partial p}{\\partial x} =  p \\frac{\\partial A}{\\partial x} - \\frac{\\partial (pA)}{\\partial x}$\n",
    "\n",
    "Now if we plug this into the momentum equaiton, we get \n",
    "\n",
    "$\\frac{\\partial (\\rho A V)}{\\partial t} + \\frac{\\partial (\\rho AV^2)}{\\partial x}=  p \\frac{\\partial A}{\\partial x} - \\frac{\\partial (pA)}{\\partial x}$\n",
    "\n",
    "Combining the x derivatives\n",
    "\n",
    "$\\frac{\\partial (\\rho A V)}{\\partial t} + \\frac{\\partial (\\rho AV^2 + pA)}{\\partial x}=  p \\frac{\\partial A}{\\partial x}$\n",
    "\n",
    "\n",
    "Just like the continuity equaiton we nondimentionalize this equation and get the following equation with some manipulation.\n",
    "\n",
    "$\\frac{\\partial (\\rho' A' V')}{\\partial t'} + \\frac{\\partial [\\rho' A'V'^2 + (1/\\gamma )p'A')]}{\\partial x'}= \\frac{1}{\\gamma} p' \\frac{\\partial A'}{\\partial x'}$\n",
    "\n",
    "Lastly, we have our energy equation in conservation form\n",
    "\n",
    "\n",
    "$\\frac{\\partial[\\rho(e+V^2/2)A]}{\\partial t}+ \\frac{\\partial[\\rho(e+V^2/2)AV+pAV]}{\\partial x} = 0$\n",
    "\n",
    "\n",
    "Nondimentionalizing the equation and using some identities for energy and the ideal gas equation we get the final form of the energy equation for our problem. \n",
    "\n",
    "$\\frac{\\partial \\Big[\\rho'\\Big(\\frac{e'}{\\gamma -1}+\\frac{\\gamma}{2}V'^2\\Big)A'\\Big]}{\\partial t'}+ \\frac{\\partial\\Big[\\rho'\\Big(\\frac{e'}{\\gamma -a}+\\frac{\\gamma}{2}V'^2\\Big)V'A'+\\rho' A' V'\\Big]}{\\partial x'} = 0$\n",
    "\n",
    "## Generic Form of the Governing Equations\n",
    "\n",
    "Now that we have our conservation, momentum, and energy equations, let's utilize the generic form of out govering equations. We do this by establishing a solution vector U, a flux vector F, and the source term J. The elemets of these vectors are as follows.\n",
    "\n",
    "$U_1 = \\rho ' A'$\n",
    "\n",
    "$U_2 = \\rho ' A'V'$\n",
    "\n",
    "$U_3 = \\rho'\\Big(\\frac{e'}{\\gamma -1}+\\frac{\\gamma}{2}V'^2\\Big)A'$\n",
    "\n",
    "$F_1 = \\rho ' A'V'$\n",
    "\n",
    "$F_2 = \\rho ' A'V'^2+\\frac{1}{\\gamma}p'A'$\n",
    "\n",
    "$F_3 = \\rho'\\Big(\\frac{e'}{\\gamma -1}+\\frac{\\gamma}{2}V'^2\\Big)V'A'+p'A'V'$\n",
    "\n",
    "$J_1 = 0$\n",
    "\n",
    "$J_2 = \\frac{1}{\\gamma}p'\\frac{\\partial A'}{\\partial x'}$\n",
    "\n",
    "$J_3 = 0$\n",
    "\n",
    "\n",
    "With these vectors, we can represent our governing equations more simply as\n",
    "\n",
    "$\\frac{\\partial U_1}{\\partial t'} = -\\frac{\\partial F_1}{\\partial x'}$\n",
    "\n",
    "$\\frac{\\partial U_2}{\\partial t'} = -\\frac{\\partial F_2}{\\partial x'}+J_2$\n",
    "\n",
    "$\\frac{\\partial U_3}{\\partial t'} = -\\frac{\\partial F_3}{\\partial x'}$\n",
    "\n",
    "\n",
    "When we solve our plroblem, we will be calculating it in terms of dependent variables $U$ so the promitive variables such as pressure, temperature, and density will be calculated ouside of the numerical solver. We can extract our primitive variables with these equations\n",
    "\n",
    "$\\rho' = \\frac{U_1}{A'}$\n",
    "\n",
    "$V' = \\frac{U_2}{U_1}$\n",
    "\n",
    "$T' = e' = (\\gamma -1)\\Big(\\frac{U_3}{U_1}-\\frac{\\gamma}{2}V'^2\\Big)$\n",
    "\n",
    "$p' = \\rho 'T'$\n",
    "\n",
    "For stability reasons, the flux elements must be in terms of the dependent variables. To do this, we use the definitions of $U$, $F$ and $J$ to get things in terms of $U$.\n",
    "\n",
    "\n",
    "$F_1=U_2$\n",
    "\n",
    "$F_2 = \\frac{U_2^2}{U_1}+ \\frac{\\gamma -1}{\\gamma}\\Big(U_3 - \\frac{\\gamma}{2}\\frac{U_2^2}{U_1}\\Big)$\n",
    "\n",
    "$F_3 = \\gamma \\frac{U_2 U_3}{U_1} - \\frac{\\gamma (\\gamma -1)}{2} \\frac{U_2^3}{U_1^2}$\n",
    "\n",
    "$J_2 = \\frac{\\gamma -1}{\\gamma}\\Big(U_3-\\frac{\\gamma}{2}\\frac{U^2_2}{U_1}\\Big)\\frac{\\partial (ln A')}{\\partial x'}$\n",
    "\n",
    "\n",
    "To save us some lines of code later, we can put these values into functions"
   ]
  },
  {
   "cell_type": "code",
   "execution_count": 81,
   "metadata": {
    "collapsed": true
   },
   "outputs": [],
   "source": [
    "# Get U vector as a result of primitives\n",
    "def primToU(rho,vel,temp,area,gamma):\n",
    "    u1 = rho*area\n",
    "    u2 = rho*area*vel\n",
    "    u3 = rho*((temp/(gamma-1)) + (gamma/2)*(vel**2))*area\n",
    "    return u1,u2,u3\n",
    "\n",
    "def getF(u1,u2,u3,gamma):\n",
    "    f1 = u2\n",
    "    f2 = ((u2**2)/u1) + ((gamma-1)/gamma) * (u3 - ( (gamma/2) * ( (u2**2)/u1) ) )\n",
    "    f3 = gamma * ((u2*u3)/u1) - ( (gamma*(gamma-1)/2) * ((u2**3)/(u1**2)) )\n",
    "    return f1,f2,f3\n",
    "\n",
    "# Get primatives from U values\n",
    "def uToPrimatives(u1,u2,u3,area,gamma):\n",
    "    rho = u1/area\n",
    "    vel = u2/u1\n",
    "    temp = (gamma-1) * ( (u3/u1) - (gamma/2) * (vel**2) )\n",
    "    pres = rho*temp\n",
    "    return rho,vel,temp,pres"
   ]
  },
  {
   "cell_type": "markdown",
   "metadata": {},
   "source": [
    "## Boundary Conditions\n",
    "The physical boundary conditions are the same as the previous problem, but because we are solving the equations in terms of $U$ we will have to change how we set these boundaries. For the subsonic inlet, we hold two values to a constant value and let one of the variables float. In this case, $T'$ and $\\rho'$ will be held constant and $V'$ will be allowed to float. By holding $\\rho'$ constant, then $U_1$ is held constant as seen below.\n",
    "\n",
    "$U_{1(i=1)} = (\\rho'A')_{i=1} = A'_{i=1} = $ $fixed$ $value$\n",
    "\n",
    "This value is set to $A'$ because in our case, the value of $\\rho'$ and $T'$ are both set to $1$. The value of $V'$ is floating so we can calculate the value for $U_2$ as\n",
    "\n",
    "\n",
    "$U_{2(i=1)} = 2U_{2(i=2)}-U_{2(i=3)}$\n",
    "\n",
    "Lastly, we have to calculate $U_3$ from out boundary conditions and calculated floating variable. \n",
    "\n",
    "\n",
    "$U_3 = U_1 \\Big(\\frac{T'}{\\gamma-1}+\\frac{\\gamma}{2}V'^2\\Big)$\n",
    "\n",
    "For this value of $U_3$ we input the floated value for $V'$ we calculated from our new $U_2$ and the value for $T'$ that we set before. \n",
    "\n",
    "\n",
    "The boundary conditions for the outlet of the nozzle for supersonic flow are listed below\n",
    "\n",
    "$(U_1)_N = 2(U_1)_{N-1} - (U_1)_{N-2}$\n",
    "\n",
    "$(U_2)_N = 2(U_2)_{N-1} - (U_2)_{N-2}$\n",
    "\n",
    "$(U_3)_N = 2(U_2)_{N-1} - (U_3 )_{N-2}$\n",
    "\n",
    "The values of $U$ are set by the primative variables and once calculated, they can be used to solve for $F_1$, $F_2$ and $F_3$ at the boundaries. \n",
    "\n",
    "## Initial Conditions\n",
    "\n",
    "We can now begin initializing our problem. The nozzle shape will be the same as the one used for the previous supersonic simulation. \n",
    "\n",
    "$A = 1+2.2(x-1.5)^2$\n"
   ]
  },
  {
   "cell_type": "code",
   "execution_count": 14,
   "metadata": {
    "collapsed": false
   },
   "outputs": [
    {
     "data": {
      "text/plain": [
       "(-1.5, 1.5)"
      ]
     },
     "execution_count": 14,
     "metadata": {},
     "output_type": "execute_result"
    },
    {
     "data": {
      "image/png": "[encoded data removed]",
      "text/plain": [
       "<matplotlib.figure.Figure at 0x1aa33cbee10>"
      ]
     },
     "metadata": {},
     "output_type": "display_data"
    }
   ],
   "source": [
    "numPts = 31\n",
    "x=np.linspace(0,3,numPts)\n",
    "area=1+2.2*(x-1.5)**2\n",
    "y=(area/3.1415)**0.5\n",
    "pyplot.plot(x,y,'black')\n",
    "pyplot.plot(x,-y,'black')\n",
    "pyplot.xlim([0,3])\n",
    "pyplot.ylim([-1.5,1.5])"
   ]
  },
  {
   "cell_type": "markdown",
   "metadata": {},
   "source": [
    "The initial conditions will be set as follows\n",
    "\n",
    "for $0\\leq x' \\leq 0.5$:\n",
    "\n",
    "$\\rho' =1.0$\n",
    "\n",
    "$T' =1.0$\n",
    "\n",
    "for $0.5\\leq x' \\leq 1.5$:\n",
    "\n",
    "$\\rho' =1.0 - 0.366(x'-0.5)$\n",
    "\n",
    "$T' =1.0 - 0.167(x'-0.5)$\n",
    "\n",
    "for $1.5\\leq x' \\leq 3.5$:\n",
    "\n",
    "$\\rho' =0.634-0.3879(x'-1.5)$\n",
    "\n",
    "$T' =0.833-0.3507(x'-1.5)$"
   ]
  },
  {
   "cell_type": "code",
   "execution_count": 15,
   "metadata": {
    "collapsed": false
   },
   "outputs": [],
   "source": [
    "rho = np.zeros(numPts)\n",
    "temp = np.zeros(numPts)\n",
    "for i in range(numPts):\n",
    "    if x[i]<0.5:\n",
    "        rho[i] = 1\n",
    "        temp[i] =1\n",
    "    elif x[i]<1.5:\n",
    "        rho[i] = 1.0 - 0.366*(x[i]-0.5)\n",
    "        temp[i] = 1.0 - 0.167*(x[i]-0.5)\n",
    "    else:\n",
    "        rho[i] = 0.634-0.3879*(x[i]-1.5)\n",
    "        temp[i] = 0.833-0.3507*(x[i]-1.5)"
   ]
  },
  {
   "cell_type": "markdown",
   "metadata": {},
   "source": [
    "As for the velocity, we will assume that the initial condition state has a constant mass flow rate. The variable $U_2$ is physically the mass flow rate and is calculated as such $U_2 = \\rho' A'V'$. With this equation and a guess that the mass flow rate is 0.59, we can use the following equation to get an initial condition for $V'$.\n",
    "\n",
    "\n",
    "$V' = \\frac{U_2}{\\rho' A'} = \\frac{0.59}{\\rho' A'}$"
   ]
  },
  {
   "cell_type": "code",
   "execution_count": 25,
   "metadata": {
    "collapsed": false
   },
   "outputs": [
    {
     "data": {
      "text/plain": [
       "<matplotlib.text.Text at 0x1aa35bf1780>"
      ]
     },
     "execution_count": 25,
     "metadata": {},
     "output_type": "execute_result"
    },
    {
     "data": {
      "image/png": "[encoded data removed]",
      "text/plain": [
       "<matplotlib.figure.Figure at 0x1aa35c2f710>"
      ]
     },
     "metadata": {},
     "output_type": "display_data"
    }
   ],
   "source": [
    "vel = 0.59 / (rho*area)\n",
    "mach = vel / (temp**0.5)\n",
    "\n",
    "pyplot.plot(x,rho,label='density')\n",
    "pyplot.plot(x,temp,label='temperature')\n",
    "pyplot.plot(x,vel,label='velocity')\n",
    "pyplot.plot(x,mach,label='mach')\n",
    "pyplot.legend(loc=2)\n",
    "pyplot.title('Initial Conditions')\n",
    "pyplot.xlabel('x/L')"
   ]
  },
  {
   "cell_type": "code",
   "execution_count": 30,
   "metadata": {
    "collapsed": false
   },
   "outputs": [
    {
     "data": {
      "text/plain": [
       "[<matplotlib.lines.Line2D at 0x1aa35d6f5f8>]"
      ]
     },
     "execution_count": 30,
     "metadata": {},
     "output_type": "execute_result"
    },
    {
     "data": {
      "image/png": "[encoded data removed]",
      "text/plain": [
       "<matplotlib.figure.Figure at 0x1aa35d231d0>"
      ]
     },
     "metadata": {},
     "output_type": "display_data"
    }
   ],
   "source": [
    "# Lets try out our functions and generate the initial values for U and F\n",
    "gamma = 1.4\n",
    "u1,u2,u3 = primToU(rho,vel,temp,area,gamma)\n",
    "pyplot.plot(x,u1,label='u1')\n",
    "pyplot.plot(x,u2,label='u2')\n",
    "pyplot.plot(x,u3,label='u3')\n",
    "pyplot.title('Initial Conditions')\n",
    "pyplot.xlabel('x/L')"
   ]
  },
  {
   "cell_type": "code",
   "execution_count": 31,
   "metadata": {
    "collapsed": false
   },
   "outputs": [
    {
     "data": {
      "text/plain": [
       "[<matplotlib.lines.Line2D at 0x1aa35ddd0f0>]"
      ]
     },
     "execution_count": 31,
     "metadata": {},
     "output_type": "execute_result"
    },
    {
     "data": {
      "image/png": "[encoded data removed]",
      "text/plain": [
       "<matplotlib.figure.Figure at 0x1aa35d235f8>"
      ]
     },
     "metadata": {},
     "output_type": "display_data"
    }
   ],
   "source": [
    "f1,f2,f3 = getF(u1,u2,u3,gamma)\n",
    "pyplot.plot(x,f1,label='f1')\n",
    "pyplot.plot(x,f2,label='f2')\n",
    "pyplot.plot(x,f3,label='f3')\n",
    "pyplot.title('Initial Conditions')\n",
    "pyplot.xlabel('x/L')"
   ]
  },
  {
   "cell_type": "markdown",
   "metadata": {},
   "source": [
    "## Time Step\n",
    "For our time step, we must consider the Courant number\n",
    "\n",
    "$\\Delta t = C\\frac{\\Delta x}{a+V}$\n",
    "\n",
    "Where a is the speed of sound locally and V is the local velocity. For every element, there will be a different value for a given Courant number and although we can use a local timestep, we will instead just use the minimum of the whole system at a given timestep.\n"
   ]
  },
  {
   "cell_type": "markdown",
   "metadata": {},
   "source": [
    "## Iteration Function\n",
    "Now we have what we need to construct a function that will iterate one timestep for a given 1D array of points."
   ]
  },
  {
   "cell_type": "code",
   "execution_count": 224,
   "metadata": {
    "collapsed": false
   },
   "outputs": [],
   "source": [
    "def solveFlow(rho,temp,vel,area,gamma,deltat,deltax):\n",
    "    # Convert values to U and F vectors for each node\n",
    "    numPts = len(rho)\n",
    "    u1,u2,u3 =  primToU(rho,vel,temp,area,gamma)\n",
    "    f1,f2,f3 = getF(u1,u2,u3,gamma)\n",
    "    # We have all of our dependent variables calculated, \n",
    "    #so now we can use MacCormack's explicit predictor-corrector technique\n",
    "\n",
    "    # Initialize array\n",
    "    du1dt = np.ones(numPts)\n",
    "    du2dt = np.ones(numPts)\n",
    "    du3dt = np.ones(numPts)\n",
    "    u1Bar = np.ones(numPts)\n",
    "    u2Bar = np.ones(numPts)\n",
    "    u3Bar = np.ones(numPts)\n",
    "    f1Bar = np.ones(numPts)\n",
    "    f2Bar = np.ones(numPts)\n",
    "    f3Bar = np.ones(numPts)\n",
    "    rhoBar = np.ones(numPts)\n",
    "    TBar = np.ones(numPts)\n",
    "    VBar = np.ones(numPts)\n",
    "    #Predictor Step\n",
    "    for i in range(1,numPts-1):# starts at node 2 and goes to node N-1\n",
    "        # Here we implement a difference equation for our general govering equations\n",
    "        du1dt[i] = -(f1[i+1]-f1[i])/deltax\n",
    "        j = (1/gamma)*rho[i]*temp[i]*((area[i+1]-area[i])/deltax)\n",
    "        du2dt[i] = -(f2[i+1]-f2[i])/deltax + j\n",
    "        du3dt[i] = -(f3[i+1]-f3[i])/deltax\n",
    "        # Solve for ubar and fbar\n",
    "        u1Bar[i] = u1[i] + du1dt[i]*deltat \n",
    "        u2Bar[i] = u2[i] + du2dt[i]*deltat\n",
    "        u3Bar[i] = u3[i] + du3dt[i]*deltat\n",
    "        f1Bar[i],f2Bar[i],f3Bar[i] = getF(u1Bar[i],u2Bar[i],u3Bar[i],gamma)\n",
    "        # get primatives to recalculate J\n",
    "        rhoBar[i],VBar[i],TBar[i],dummy2 = uToPrimatives(u1Bar[i],u2Bar[i],u3Bar[i],area[i],gamma)\n",
    "        \n",
    "    u1Bar[0] = area[0]\n",
    "    u2Bar[0] = 2*u2Bar[1] -u2Bar[2]\n",
    "    u3Bar[0] = u1Bar[0]*((TBar[0]/(gamma-1))+(gamma/2)*(VBar[0]**2))\n",
    "    f1Bar,f2Bar,f3Bar = getF(u1Bar,u2Bar,u3Bar,gamma)\n",
    "    \n",
    "    du1dxBar = np.zeros(numPts)\n",
    "    du2dxBar = np.zeros(numPts)\n",
    "    du3dxBar = np.zeros(numPts)\n",
    "    du1dxAv = np.zeros(numPts)\n",
    "    du2dxAv = np.zeros(numPts)\n",
    "    du3dxAv = np.zeros(numPts)\n",
    "    \n",
    "    # Corrector step\n",
    "    for i in range(1,numPts-1):# starts at node 2 and goes to node N-1\n",
    "            du1dxBar[i] = -(f1Bar[i]-f1Bar[i-1])/deltax\n",
    "            du2dxBar[i] = (-1*((f2Bar[i]-f2Bar[i-1])/deltax)) + ((1/gamma)*rhoBar[i]*TBar[i]*((area[i]-area[i-1])/deltax))\n",
    "            du3dxBar[i] = -(f3Bar[i]-f3Bar[i-1])/deltax\n",
    "            # Calculate du/du_av\n",
    "            du1dxAv[i] = 0.5*(du1dt[i]+du1dxBar[i])\n",
    "            du2dxAv[i] = 0.5*(du2dt[i]+du2dxBar[i])\n",
    "            du3dxAv[i] = 0.5*(du3dt[i]+du3dxBar[i])\n",
    "            u1[i] = u1[i] + du1dxAv[i]*deltat\n",
    "            u2[i] = u2[i] + du2dxAv[i]*deltat\n",
    "            u3[i] = u3[i] + du3dxAv[i]*deltat\n",
    "    # Get primatives from U values\n",
    "    rho,vel,temp,pres = uToPrimatives(u1,u2,u3,area,gamma)\n",
    "    # set BC's\n",
    "    u1[0] = area[0]\n",
    "    u2[0] = 2*u2[1] -u2[2]\n",
    "    u3[0] = u1[0]*((temp[0]/(gamma-1))+(gamma/2)*(vel[0]**2))\n",
    "    \n",
    "    u1[numPts-1] = 2*u1[numPts-2] - u1[numPts-3]\n",
    "    u2[numPts-1] = 2*u2[numPts-2] - u2[numPts-3]\n",
    "    u3[numPts-1] = 2*u3[numPts-2] - u3[numPts-3]\n",
    "    \n",
    "    # final conversion for primatives before output\n",
    "    rho,vel,temp,pres = uToPrimatives(u1,u2,u3,area,gamma)\n",
    "    return rho,vel,temp,pres,du1dxAv,du2dxAv,du3dxAv"
   ]
  },
  {
   "cell_type": "markdown",
   "metadata": {},
   "source": []
  },
  {
   "cell_type": "code",
   "execution_count": 102,
   "metadata": {
    "collapsed": true
   },
   "outputs": [],
   "source": [
    "def main(numPts,numIter):\n",
    "    # Set up geometry \n",
    "    length = 3\n",
    "    x=np.linspace(0,length,numPts)\n",
    "    area=1+2.2*(x-1.5)**2\n",
    "    \n",
    "    # Flow parameters\n",
    "    gamma = 1.4\n",
    "    \n",
    "    # Establish initial conditions\n",
    "    rho = np.zeros(numPts)\n",
    "    temp = np.zeros(numPts)\n",
    "    for i in range(numPts):\n",
    "        if x[i]<0.5:\n",
    "            rho[i] = 1\n",
    "            temp[i] =1\n",
    "        elif x[i]<1.5:\n",
    "            rho[i] = 1.0 - 0.366*(x[i]-0.5)\n",
    "            temp[i] = 1.0 - 0.167*(x[i]-0.5)\n",
    "        else:\n",
    "            rho[i] = 0.634-0.3879*(x[i]-1.5)\n",
    "            temp[i] = 0.833-0.3507*(x[i]-1.5)\n",
    "    vel = 0.59 / (rho*area)\n",
    "    a = temp**0.5 #speed of sound\n",
    "    \n",
    "    #Calculate first time step \n",
    "    cNum = 0.5 # Courant number\n",
    "    deltax = length/(numPts-1)\n",
    "    dtLocal = cNum *(deltax/(a+vel))\n",
    "    deltat = min(dtLocal)\n",
    "    \n",
    "    for i in range(0,numIter):\n",
    "        rho,vel,temp,pres,du1dxAv,du2dxAv,du3dxAv = solveFlow(rho,temp,vel,area,gamma,deltat,deltax)\n",
    "     \n",
    "    print('Done.')\n",
    "    return rho,vel,temp,pres,du1dxAv,du2dxAv,du3dxAv"
   ]
  },
  {
   "cell_type": "code",
   "execution_count": 235,
   "metadata": {
    "collapsed": false,
    "scrolled": true
   },
   "outputs": [
    {
     "name": "stdout",
     "output_type": "stream",
     "text": [
      "Done.\n",
      "[ 1.          0.99874453  0.99709211  0.99486227  0.9918477   0.98768901\n",
      "  0.98192176  0.97380199  0.9623255   0.94599817  0.92289355  0.89054004\n",
      "  0.84644241  0.78869021  0.71752089  0.65165117  0.54708467  0.46178561\n",
      "  0.383633    0.31596883  0.25964044  0.21389843  0.17721774  0.14795535\n",
      "  0.12455997  0.10580607  0.09061767  0.07829871  0.06811475  0.05977046\n",
      "  0.05271193]\n"
     ]
    }
   ],
   "source": [
    "rho,vel,temp,pres,du1dxAv,du2dxAv,du3dxAv = main(31,2000)\n",
    "\n",
    "print(rho)"
   ]
  },
  {
   "cell_type": "code",
   "execution_count": 234,
   "metadata": {
    "collapsed": false
   },
   "outputs": [
    {
     "data": {
      "text/plain": [
       "[<matplotlib.lines.Line2D at 0x1aa36099518>]"
      ]
     },
     "execution_count": 234,
     "metadata": {},
     "output_type": "execute_result"
    },
    {
     "data": {
      "image/png": "[encoded data removed]",
      "text/plain": [
       "<matplotlib.figure.Figure at 0x1aa360482b0>"
      ]
     },
     "metadata": {},
     "output_type": "display_data"
    }
   ],
   "source": [
    "pyplot.plot(rho)"
   ]
  },
  {
   "cell_type": "code",
   "execution_count": null,
   "metadata": {
    "collapsed": true
   },
   "outputs": [],
   "source": []
  }
 ],
 "metadata": {
  "anaconda-cloud": {},
  "kernelspec": {
   "display_name": "Python [Root]",
   "language": "python",
   "name": "Python [Root]"
  },
  "language_info": {
   "codemirror_mode": {
    "name": "ipython",
    "version": 3
   },
   "file_extension": ".py",
   "mimetype": "text/x-python",
   "name": "python",
   "nbconvert_exporter": "python",
   "pygments_lexer": "ipython3",
   "version": "3.5.2"
  }
 },
 "nbformat": 4,
 "nbformat_minor": 0
}
