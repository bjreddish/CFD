{
 "cells": [
  {
   "cell_type": "code",
   "execution_count": 95,
   "metadata": {},
   "outputs": [],
   "source": [
    "import numpy as np                 #loading in numpy\n",
    "from matplotlib import pyplot      #load matplotlib\n",
    "import math                        # load math in \n",
    "#this makes matplotlib plots appear in the notebook (instead of a separate window)\n",
    "%matplotlib inline "
   ]
  },
  {
   "cell_type": "markdown",
   "metadata": {},
   "source": [
    "# Shock Capturing in Nozzle Flow\n",
    "We have looked at two cases so far: one with the supersonic flow and another with purelysubsonic flow. Now we are going to address the phenomenon that occurs when the pressure at the outflow of the nozzle is just below the critical exit pressure. The critical exit pressure is the case where the flow just reaches $M=1$ at the throat and the flow transitions from subsonic flow to supersonic flow in the diverging portion fo the nozzle.  \n",
    "\n",
    "To model a shock wave in our 1-D flow model, we must use the conservation form of the governing equations. The main reason for this is discussed further in John D. Anderson's book, *Computational Fluid Dynamics: The Basics with Applications*. In short, we use the conservation equations because it allows us to have a noncontinous flow which is important when delaing with shcok waves. Using the code form the previous computation whcih modeled supersonic flow in a converging divergin nozzle, we need to make two major modidifications: adding a subsonic exit flow condition and adding artificial viscosity.\n",
    "\n",
    "we will copy over the conversion functions as used in the previous case. "
   ]
  },
  {
   "cell_type": "code",
   "execution_count": 96,
   "metadata": {},
   "outputs": [],
   "source": [
    "# Get U vector as a result of primitives\n",
    "def primToU(rho,temp,vel,area,gamma):\n",
    "    u1 = rho*area\n",
    "    u2 = rho*area*vel\n",
    "    u3 = rho*((temp/(gamma-1)) + ((gamma/2)*(vel**2)))*area\n",
    "    return u1,u2,u3\n",
    "\n",
    "def getF(u1,u2,u3,gamma):\n",
    "    f1 = u2\n",
    "    f2 = ((u2**2)/u1) + ((gamma-1)/gamma) * (u3 - ( (gamma/2) * ( (u2**2)/u1) ) )\n",
    "    f3 = gamma * ((u2*u3)/u1) - ( (gamma*(gamma-1)/2) * ((u2**3)/(u1**2)) )\n",
    "    return f1,f2,f3\n",
    "\n",
    "# Get primatives from U values\n",
    "def uToPrimatives(u1,u2,u3,area,gamma):\n",
    "    rho = u1/area\n",
    "    vel = u2/u1\n",
    "    temp = (gamma-1) * ( (u3/u1) - ((gamma/2) * (vel**2)) )\n",
    "    pres = rho*temp\n",
    "    return rho,temp,vel,pres"
   ]
  },
  {
   "cell_type": "markdown",
   "metadata": {},
   "source": [
    "We will address the boundary condition first. The inflow BC is the same, so we need to change how we calculate the value for the Nth node in our array. the vlaues for $U_1$ and $U_2$ can be calculated as follows.\n",
    "\n",
    "$(U_1)_N = 2(U_1)_{N-1} - (U_1)_{N-2}$\n",
    "\n",
    "$(U_2)_N = 2(U_2)_{N-1} - (U_2)_{N-2}$\n",
    "\n",
    "Next we will decode the value for $V'$ as\n",
    "\n",
    "$V'_N = \\frac{(U_2)_N}{(U_1)_N}$\n",
    "\n",
    "Now we can enforce our value for $p'N = 0.6784$ by calculating $U_3$.\n",
    "\n",
    "$U_3 = \\rho' = \\Big(\\frac{e'}{\\gamma -1}+\\frac{\\gamma}{2}V'^2\\Big)A'$\n",
    "\n",
    "Because we are using nondimensional values, we can say that $e' = T'$ and $p'=\\rho'T'$. Now the equation looks like this:\n",
    "\n",
    "$U_3 = \\rho' = \\frac{p'A'}{\\gamma -1} + \\frac{\\gamma}{2} \\rho' A' V'^2$\n",
    "\n",
    "Inserting the identity of $U_2 = \\rho'A V'$\n",
    "\n",
    "$U_3 = \\rho' = \\frac{p'A'}{\\gamma -1} + \\frac{\\gamma}{2} U_2 V'$\n",
    "\n",
    "Now we implement our desired pressure at the exit, we get the following equation:\n",
    "\n",
    "$U_3 = \\rho' = \\frac{0.6784 A'}{\\gamma -1} + \\frac{\\gamma}{2} (U_2)_N V'_N$\n",
    "\n",
    "The second modification is to add in artificial viscosity. The calculation for artificial viscosity will be done as follows:\n",
    "\n",
    "\n",
    "$S'^t_i = \\frac{C_x |(p')^{t'}_{i+1} - 2(p')^{t'}_i +(p')^{t'}_{i-1}|}{(p')^{t'}_{i+1} + 2(p')^{t'}_i +(p')^{t'}_{i+1}}(U^{t'}_{i+1}-2U^{t'}_{i}+U^{t'}_{i-1})$\n",
    "\n",
    "Then we will add this term when calculating $\\partial U/ \\partial t$ and $\\partial \\bar{U}/ \\partial t$.\n",
    "\n",
    "$(\\bar{U}_i^{t'+\\Delta t}) = U^{t'}_{i} + \\Big(\\frac{\\partial U}{\\partial t}\\Big)^{t'}_i \\Delta t' +S'^t_i$\n",
    "\n",
    "A value for the predictor step will be calculated in the same way $(\\bar{S})$ and will be added to the calculation of the corrected values.\n",
    "\n",
    "$U_i^{t'+\\Delta t} = U^{t'}_{i} + \\Big(\\frac{\\partial U}{\\partial t}\\Big)_{av} \\Delta t' +\\bar{S}'^t_i$"
   ]
  },
  {
   "cell_type": "code",
   "execution_count": 97,
   "metadata": {},
   "outputs": [],
   "source": [
    "def solveFlow(rho,temp,vel,pres,area,gamma,deltat,deltax,Cx):\n",
    "    \"\"\"\n",
    "    This code takes in the current state of a 1-D\n",
    "    nozzle flow problem and iterates one time step \n",
    "    forward using the MacCormack method. The boundary\n",
    "    conditions are for a subsonic inlet and a super-\n",
    "    sonic outlet. \n",
    "    \n",
    "    Input:  rho,temp,vel,area,gamma,deltat,deltax,Cx(artificial visc term)\n",
    "    Output: rho,temp,vel,pres,du1dxAv,du2dxAv,du3dxAv\n",
    "    \n",
    "    The values du#dxAv are looked at as the residuals\n",
    "    for each time step. \n",
    "    \"\"\"\n",
    "    # Convert primitive variablea to U and F vectors for each node\n",
    "    numPts = len(rho)\n",
    "    u1,u2,u3 =  primToU(rho,temp,vel,area,gamma)\n",
    "    f1,f2,f3 = getF(u1,u2,u3,gamma)\n",
    "\n",
    "    # Initialize array\n",
    "    du1dt = np.ones(numPts)\n",
    "    du2dt = np.ones(numPts)\n",
    "    du3dt = np.ones(numPts)\n",
    "    u1Bar = np.ones(numPts)\n",
    "    u2Bar = np.ones(numPts)\n",
    "    u3Bar = np.ones(numPts)\n",
    "    f1Bar = np.ones(numPts)\n",
    "    f2Bar = np.ones(numPts)\n",
    "    f3Bar = np.ones(numPts)\n",
    "    rhoBar = np.ones(numPts)\n",
    "    TBar = np.ones(numPts)\n",
    "    VBar = np.ones(numPts)\n",
    "    presBar = np.ones(numPts)\n",
    "    s1 = np.ones(numPts)\n",
    "    s2 = np.ones(numPts)\n",
    "    s3 = np.ones(numPts)\n",
    "    \n",
    "    sBar1 = np.ones(numPts)\n",
    "    sBar2 = np.ones(numPts)\n",
    "    sBar3 = np.ones(numPts)\n",
    "    \n",
    "    #Predictor Step\n",
    "    for i in range(0,numPts):# starts at node 1 and goes to node N-1\n",
    "        if i==0 or i==numPts-1: # set boundary conditions for predictor step\n",
    "            u1Bar[i],u2Bar[i],u3Bar[i] =u1[i],u2[i],u3[i] \n",
    "            f1Bar[i],f2Bar[i],f3Bar[i] = getF(u1Bar[i],u2Bar[i],u3Bar[i],gamma)\n",
    "            rhoBar[i],TBar[i],VBar[i],presBar[i] = uToPrimatives(u1Bar[i],u2Bar[i],u3Bar[i],area[i],gamma)\n",
    "        \n",
    "        else:\n",
    "            # Calculate dervative using forward difference\n",
    "            du1dt[i] = -(f1[i+1]-f1[i])/deltax\n",
    "            j = (1/gamma)*rho[i]*temp[i]*((area[i+1]-area[i])/deltax)\n",
    "            du2dt[i] = -(f2[i+1]-f2[i])/deltax + j\n",
    "            du3dt[i] = -(f3[i+1]-f3[i])/deltax\n",
    "            # Calculate artificial viscosity\n",
    "            viscPres = (Cx*abs(pres[i+1]-2*pres[i]+pres[i-1]))/(pres[i+1]+2*pres[i]+pres[i-1])\n",
    "            s1[i] = viscPres*(u1[i+1]-2*u1[i]+u1[i-1])\n",
    "            s2[i] = viscPres*(u2[i+1]-2*u2[i]+u2[i-1])\n",
    "            s3[i] = viscPres*(u3[i+1]-2*u3[i]+u3[i-1])\n",
    "            # Solve for ubar and fbar\n",
    "            u1Bar[i] = u1[i] + du1dt[i]*deltat + s1[i]\n",
    "            u2Bar[i] = u2[i] + du2dt[i]*deltat + s2[i]\n",
    "            u3Bar[i] = u3[i] + du3dt[i]*deltat + s3[i]\n",
    "            f1Bar[i],f2Bar[i],f3Bar[i] = getF(u1Bar[i],u2Bar[i],u3Bar[i],gamma)\n",
    "            # get primatives to recalculate J and artificial viscosity\n",
    "            rhoBar[i],TBar[i],VBar[i],presBar[i] = uToPrimatives(u1Bar[i],u2Bar[i],u3Bar[i],area[i],gamma)\n",
    "    \n",
    "    \n",
    "    du1dxBar = np.zeros(numPts)\n",
    "    du2dxBar = np.zeros(numPts)\n",
    "    du3dxBar = np.zeros(numPts)\n",
    "    du1dxAv = np.zeros(numPts)\n",
    "    du2dxAv = np.zeros(numPts)\n",
    "    du3dxAv = np.zeros(numPts)\n",
    "    \n",
    "    # Corrector step\n",
    "    for i in range(1,numPts-1):# starts at node 2 and goes to node N-1\n",
    "            du1dxBar[i] = -(f1Bar[i]-f1Bar[i-1])/deltax\n",
    "            du2dxBar[i] = (-1*((f2Bar[i]-f2Bar[i-1])/deltax)) + ((1/gamma)*rhoBar[i]*TBar[i]*((area[i]-area[i-1])/deltax))\n",
    "            du3dxBar[i] = -(f3Bar[i]-f3Bar[i-1])/deltax\n",
    "            # Calculate du/du_av\n",
    "            du1dxAv[i] = 0.5*(du1dt[i]+du1dxBar[i])\n",
    "            du2dxAv[i] = 0.5*(du2dt[i]+du2dxBar[i])\n",
    "            du3dxAv[i] = 0.5*(du3dt[i]+du3dxBar[i])\n",
    "            # Calculate artificial viscosity\n",
    "            viscPres = (Cx*abs(presBar[i+1]-2*presBar[i]+presBar[i-1]))/(presBar[i+1]+2*presBar[i]+presBar[i-1])\n",
    "            sBar1[i] = viscPres*(u1Bar[i+1]-2*u1Bar[i]+u1Bar[i-1])\n",
    "            sBar2[i] = viscPres*(u2Bar[i+1]-2*u2Bar[i]+u2Bar[i-1])\n",
    "            sBar3[i] = viscPres*(u3Bar[i+1]-2*u3Bar[i]+u3Bar[i-1])\n",
    "            \n",
    "            u1[i] = u1[i] + du1dxAv[i]*deltat + sBar1[i]\n",
    "            u2[i] = u2[i] + du2dxAv[i]*deltat + sBar2[i]\n",
    "            u3[i] = u3[i] + du3dxAv[i]*deltat + sBar3[i]\n",
    "            \n",
    "    \n",
    "    # Get primatives from U values\n",
    "    rho,temp,vel,pres = uToPrimatives(u1,u2,u3,area,gamma)\n",
    "    # set BC's\n",
    "    u1[0] = area[0]\n",
    "    u2[0] = 2*u2[1] - u2[2]\n",
    "    u3[0] = u1[0]*((temp[0]/(gamma-1))+(gamma/2)*(vel[0]**2))\n",
    "    \n",
    "    u1[numPts-1] = 2*u1[numPts-2] - u1[numPts-3]\n",
    "    u2[numPts-1] = 2*u2[numPts-2] - u2[numPts-3]\n",
    "    # Calculating subsonic outlet BC for shock capturing\n",
    "    velBC = u2[numPts-1]/u1[numPts-1]\n",
    "    u3[numPts-1] = ( (0.6784*area[numPts-1]) / (gamma-1) ) + ((gamma/2)*u2[numPts-1]*velBC)\n",
    "    \n",
    "    # final conversion for primatives before output\n",
    "    rho,temp,vel,pres = uToPrimatives(u1,u2,u3,area,gamma)\n",
    "    return rho,temp,vel,pres,du1dxAv,du2dxAv,du3dxAv"
   ]
  },
  {
   "cell_type": "markdown",
   "metadata": {},
   "source": [
    "We will also make a change to the initial conditions for this problem. We will use the same initial conditions as before up to $x<1.5$\n",
    "\n",
    "The initial conditions will be set as follows\n",
    "\n",
    "for $0\\leq x' \\leq 0.5$:\n",
    "\n",
    "$\\rho' =1.0$\n",
    "\n",
    "$T' =1.0$\n",
    "\n",
    "for $0.5\\leq x' \\leq 1.5$:\n",
    "\n",
    "$\\rho' =1.0 - 0.366(x'-0.5)$\n",
    "\n",
    "$T' =1.0 - 0.167(x'-0.5)$\n",
    "\n",
    "for $1.5\\leq x' \\leq 2.1$:\n",
    "\n",
    "$\\rho' = 0.634-0.702(x'-1.5)$\n",
    "\n",
    "$T' = 0.833-0.4908(x'-1.5)$\n",
    "\n",
    "for $2.1\\leq x' \\leq 3.0$:\n",
    "\n",
    "$\\rho' =0.5892-0.10228(x'-2.1)$\n",
    "\n",
    "$T' =0.93968-0.0622(x'-2.1)$"
   ]
  },
  {
   "cell_type": "code",
   "execution_count": 98,
   "metadata": {},
   "outputs": [],
   "source": [
    "def main(numPts,numIter,Cx):\n",
    "    # Set up geometry \n",
    "    length = 3\n",
    "    x=np.linspace(0,length,numPts)\n",
    "    area=1+2.2*(x-1.5)**2\n",
    "    \n",
    "    # Flow parameters\n",
    "    gamma = 1.4\n",
    "    \n",
    "    # Establish initial conditions\n",
    "    rho = np.zeros(numPts)\n",
    "    temp = np.zeros(numPts)\n",
    "    for i in range(0,numPts):\n",
    "        if x[i]<=0.5:\n",
    "            rho[i] = 1\n",
    "            temp[i] =1\n",
    "        elif x[i]<=1.5:\n",
    "            rho[i] = 1.0 - 0.366*(x[i]-0.5)\n",
    "            temp[i] = 1.0 - 0.167*(x[i]-0.5)\n",
    "        elif x[i]<=2.1:\n",
    "            rho[i] = 0.634-0.702*(x[i]-1.5)\n",
    "            temp[i] = 0.833-0.4908*(x[i]-1.5)\n",
    "        else:\n",
    "            rho[i] = 0.5892-0.10228*(x[i]-2.1)\n",
    "            temp[i] = 0.93968-0.0622*(x[i]-2.1)\n",
    "            \n",
    "    vel = 0.59 / (rho*area)\n",
    "    pres = rho*temp\n",
    "    a = temp**0.5 #speed of sound\n",
    "    \n",
    "    # Setting up matrix to store data\n",
    "    rhoResults = np.zeros(shape=(numPts,numIter))\n",
    "    tempResults = np.zeros(shape=(numPts,numIter))\n",
    "    velResults = np.zeros(shape=(numPts,numIter))\n",
    "    presResults = np.zeros(shape=(numPts,numIter))\n",
    "    u1ResidualResults = np.zeros(shape=(numPts,numIter))\n",
    "    u2ResidualResults = np.zeros(shape=(numPts,numIter))\n",
    "    u3ResidualResults = np.zeros(shape=(numPts,numIter))\n",
    "    \n",
    "    #Calculate first time step \n",
    "    cNum = 0.5 # Courant number\n",
    "    deltax = length/(numPts-1)\n",
    "    dtLocal = cNum *(deltax/(a+vel))\n",
    "    deltat = min(dtLocal)\n",
    "    \n",
    "    for i in range(0,numIter):\n",
    "        rho,temp,vel,pres,du1dxAv,du2dxAv,du3dxAv = solveFlow(rho,temp,vel,pres,area,gamma,deltat,deltax,Cx)\n",
    "        rhoResults[:,i] = rho\n",
    "        velResults[:,i] = vel\n",
    "        tempResults[:,i] = temp\n",
    "        presResults[:,i] = pres\n",
    "        u1ResidualResults[:,i] = du1dxAv\n",
    "        u2ResidualResults[:,i] = du2dxAv\n",
    "        u3ResidualResults[:,i] = du3dxAv\n",
    "        \n",
    "        a = temp**0.5 #speed of sound\n",
    "        dtLocal = cNum *(deltax/(a+vel))\n",
    "        deltat = min(dtLocal)\n",
    "        \n",
    "    print('Done.')\n",
    "    return rhoResults,tempResults,velResults,presResults,u1ResidualResults,u2ResidualResults,u3ResidualResults, area"
   ]
  },
  {
   "cell_type": "markdown",
   "metadata": {},
   "source": [
    "Let's begin this simulation with no artificial viscosity. "
   ]
  },
  {
   "cell_type": "code",
   "execution_count": 99,
   "metadata": {},
   "outputs": [
    {
     "name": "stdout",
     "output_type": "stream",
     "text": [
      "Done.\n"
     ]
    }
   ],
   "source": [
    "rhoResults,tempResults,velResults,presResults,u1ResidualResults,u2ResidualResults,u3ResidualResults,area = main(61,2000,0)"
   ]
  },
  {
   "cell_type": "code",
   "execution_count": 100,
   "metadata": {},
   "outputs": [
    {
     "data": {
      "text/plain": [
       "Text(0.5, 1.0, 'Local pressure: steady state sol of 1-D nozzle flow with shock\\n (No arificial Viscosity)')"
      ]
     },
     "execution_count": 100,
     "metadata": {},
     "output_type": "execute_result"
    },
    {
     "data": {
      "image/png": "[encoded data removed]",
      "text/plain": [
       "<Figure size 432x288 with 1 Axes>"
      ]
     },
     "metadata": {
      "needs_background": "light"
     },
     "output_type": "display_data"
    }
   ],
   "source": [
    "x = np.linspace(0,3,len(rhoResults[:,-1]))\n",
    "pyplot.plot(x,presResults[:,-1])\n",
    "pyplot.xlabel('x/L')\n",
    "pyplot.ylabel('Pressure(nondimensionalized)')\n",
    "pyplot.title('Local pressure: steady state sol of 1-D nozzle flow with shock\\n (No arificial Viscosity)')"
   ]
  },
  {
   "cell_type": "markdown",
   "metadata": {},
   "source": [
    "As we can see, the solution produced a shock wave in the nozzle which is nothing short of amazing. We didn't program where the shock would be or what would happen befor eand after the shock, but the governing equations forced this behavior to make sure the boundary conditions were met. This is the beauty of modeling physical problems with mathematics. We took something generic and characterized the flow with a set boundary conditions and the model took on a life of its own. Now we can imporove our model by implimenting our atificial viscosity. Let's try $C_x = 0.2$."
   ]
  },
  {
   "cell_type": "code",
   "execution_count": 101,
   "metadata": {},
   "outputs": [
    {
     "name": "stdout",
     "output_type": "stream",
     "text": [
      "Done.\n"
     ]
    }
   ],
   "source": [
    "rhoResults,tempResults,velResults,presResults,u1ResidualResults,u2ResidualResults,u3ResidualResults,area = main(61,2000,0.2)"
   ]
  },
  {
   "cell_type": "code",
   "execution_count": 102,
   "metadata": {},
   "outputs": [
    {
     "data": {
      "text/plain": [
       "Text(0.5, 1.0, 'Local pressure: steady state sol of 1-D nozzle flow with shock\\n (With arificial Viscosity)')"
      ]
     },
     "execution_count": 102,
     "metadata": {},
     "output_type": "execute_result"
    },
    {
     "data": {
      "image/png": "[encoded data removed]",
      "text/plain": [
       "<Figure size 432x288 with 1 Axes>"
      ]
     },
     "metadata": {
      "needs_background": "light"
     },
     "output_type": "display_data"
    }
   ],
   "source": [
    "pyplot.plot(x,presResults[:,-1])\n",
    "pyplot.xlabel('x/L')\n",
    "pyplot.ylabel('Pressure(nondimensionalized)')\n",
    "pyplot.title('Local pressure: steady state sol of 1-D nozzle flow with shock\\n (With arificial Viscosity)')"
   ]
  },
  {
   "cell_type": "code",
   "execution_count": 103,
   "metadata": {},
   "outputs": [
    {
     "data": {
      "text/plain": [
       "Text(0.5, 1.0, 'Local Mach Number: steady state sol of 1-D nozzle flow with shock\\n (With arificial Viscosity)')"
      ]
     },
     "execution_count": 103,
     "metadata": {},
     "output_type": "execute_result"
    },
    {
     "data": {
      "image/png": "[encoded data removed]",
      "text/plain": [
       "<Figure size 432x288 with 1 Axes>"
      ]
     },
     "metadata": {
      "needs_background": "light"
     },
     "output_type": "display_data"
    }
   ],
   "source": [
    "pyplot.plot(x,velResults[:,-1]/tempResults[:,-1]**0.5)\n",
    "pyplot.xlabel('x/L')\n",
    "pyplot.ylabel('Mach Number')\n",
    "pyplot.title('Local Mach Number: steady state sol of 1-D nozzle flow with shock\\n (With arificial Viscosity)')"
   ]
  }
 ],
 "metadata": {
  "kernelspec": {
   "display_name": "Python 3",
   "language": "python",
   "name": "python3"
  },
  "language_info": {
   "codemirror_mode": {
    "name": "ipython",
    "version": 3
   },
   "file_extension": ".py",
   "mimetype": "text/x-python",
   "name": "python",
   "nbconvert_exporter": "python",
   "pygments_lexer": "ipython3",
   "version": "3.6.7"
  }
 },
 "nbformat": 4,
 "nbformat_minor": 2
}
