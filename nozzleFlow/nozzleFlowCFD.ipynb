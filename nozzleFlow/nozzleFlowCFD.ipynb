{
 "cells": [
  {
   "cell_type": "markdown",
   "metadata": {},
   "source": [
    "# Analysis of Quasi-One-Dimensional Nozzle Flow with Analytical and Numerical Methods\n",
    "\n",
    "This notebook covers an indepth analysis of an isentropic flow through a convergin diverging nozzle for both the subsonic and the supersonic regime. The inlet of the nozzle is fed from a resivour and will have a constant pressure and temperature $(p_0, T_0)$. The flow will be subsonic in the converging portion of the nozzle, sonic at the throat (M=1) and supersonic at the exit of the nozzle. \n",
    "This problem is solved analytically which gives us a great reference point to try out numerical methods. Let's first look at the analytical solution and then move on to numerical mehtods to solve the problem using CFD. The analytical solutions for continuity, energy and momentum are as follows. \n",
    "\n",
    "Continuity: $\\rho_1 V_1 A_1 = \\rho_2 V_2 A_2 $\n",
    "\n",
    "Momentum: $p_1 A_1 + \\rho_1 V_1^2 A_1 + \\int_{A_1}^{A_2}pdA = p_2 A_2 + \\rho_2 V_2^2 A_2$ \n",
    "\n",
    "Energy: $h_1 + \\frac{v_1^2}{2} = h_2 + \\frac{V_2^2}{2}$\n",
    "\n",
    "The different subscripts denote the location of the flow inside of the nozzle. In addition to the flow equations, we also have the ideal gas equation:\n",
    "\n",
    "$p = \\rho R T$\n",
    "\n",
    "This flow consists of a calorically perfect gas:\n",
    "\n",
    "$h = c_p T$\n",
    "\n",
    "\n",
    "The Mach number in the nozzle is determined by the area ratio $A/A^*$ where $A^*$ is the area of the nozzle at the choak point (M=1).\n",
    "\n",
    "\n",
    "$\\Big (\\frac{A}{A^*} \\Big)^2 = \\frac{1}{M^2}\\Big[\\frac{2}{\\gamma +1}\\Big(1+\\frac{\\gamma-1}{2}M^2\\Big)\\Big]^{(\\gamma+1)/(\\gamma-1)}$\n",
    "\n",
    "Gamma ($\\gamma$) is defined as the ratio of specific heats and for air, the standard value is 1.4. \n",
    "\n",
    "The rest of the parameters can be solved in terms of the mach number:\n",
    "\n",
    "$\\frac{p}{p_0}  = \\Big(1+\\frac{\\gamma-1}{2}M^2\\Big)^{(-\\gamma)/(\\gamma-1)}$\n",
    "\n",
    "\n",
    "$\\frac{\\rho}{\\rho_0}  = \\Big(1+\\frac{\\gamma-1}{2}M^2\\Big)^{1/(\\gamma-1)}$\n",
    "\n",
    "\n",
    "$\\frac{T}{T_0}  = \\Big(1+\\frac{\\gamma-1}{2}M^2\\Big)^{-1}$\n",
    "\n",
    "\n",
    "\n",
    "\n",
    "To view these relationships, we can plot the analytical solution."
   ]
  },
  {
   "cell_type": "code",
   "execution_count": 1,
   "metadata": {
    "collapsed": true
   },
   "outputs": [],
   "source": [
    "import numpy                       #loading in numpy\n",
    "from matplotlib import pyplot      #load matplotlib\n",
    "\n",
    "#this makes matplotlib plots appear in the notebook (instead of a separate window)\n",
    "%matplotlib inline "
   ]
  },
  {
   "cell_type": "code",
   "execution_count": 37,
   "metadata": {
    "collapsed": false
   },
   "outputs": [
    {
     "data": {
      "image/png": "[encoded data removed]",
      "text/plain": [
       "<matplotlib.figure.Figure at 0x24c0b239be0>"
      ]
     },
     "metadata": {},
     "output_type": "display_data"
    }
   ],
   "source": [
    "M = numpy.linspace(0.5,2,100)\n",
    "aRatio = (1/M**2)* ((2/(2.4))*(1+(.4/2)*M**2))**((2.4)/(0.4))\n",
    "pyplot.plot(aRatio,M)\n",
    "pyplot.xlabel('Area Ratio')\n",
    "pyplot.ylabel('Mach Number')\n",
    "M = numpy.ones(100)"
   ]
  },
  {
   "cell_type": "code",
   "execution_count": null,
   "metadata": {
    "collapsed": true
   },
   "outputs": [],
   "source": []
  }
 ],
 "metadata": {
  "kernelspec": {
   "display_name": "Python [Root]",
   "language": "python",
   "name": "Python [Root]"
  },
  "language_info": {
   "codemirror_mode": {
    "name": "ipython",
    "version": 3
   },
   "file_extension": ".py",
   "mimetype": "text/x-python",
   "name": "python",
   "nbconvert_exporter": "python",
   "pygments_lexer": "ipython3",
   "version": "3.5.2"
  }
 },
 "nbformat": 4,
 "nbformat_minor": 0
}
